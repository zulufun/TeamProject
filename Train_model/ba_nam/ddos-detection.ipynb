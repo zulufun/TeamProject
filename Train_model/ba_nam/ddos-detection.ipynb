{
 "cells": [
  {
   "cell_type": "markdown",
   "metadata": {},
   "source": [
    "# DDoS Detection on CSE-CIC-IDS2018 AWS Dataset"
   ]
  },
  {
   "cell_type": "markdown",
   "metadata": {},
   "source": [
    "This project aims to create a DDoS Detection Classifier trained on labelled network traffic data."
   ]
  },
  {
   "cell_type": "markdown",
   "metadata": {},
   "source": [
    "We start by importing a few libraries:"
   ]
  },
  {
   "cell_type": "code",
   "execution_count": 1,
   "metadata": {
    "execution": {
     "iopub.execute_input": "2025-03-06T14:46:17.180688Z",
     "iopub.status.busy": "2025-03-06T14:46:17.180227Z",
     "iopub.status.idle": "2025-03-06T14:46:18.514600Z",
     "shell.execute_reply": "2025-03-06T14:46:18.513365Z",
     "shell.execute_reply.started": "2025-03-06T14:46:17.180579Z"
    },
    "trusted": true
   },
   "outputs": [],
   "source": [
    "import pandas as pd\n",
    "import numpy as np\n",
    "import matplotlib.pyplot as plt\n",
    "import joblib\n",
    "import sklearn\n",
    "from sklearn.preprocessing import MinMaxScaler\n",
    "from sklearn.ensemble import RandomForestClassifier\n",
    "from sklearn.model_selection import GridSearchCV, train_test_split\n",
    "# from sklearn.metrics import accuracy_score, classification_report, confusion_matrix, plot_confusion_matrix\n",
    "from sklearn.metrics import accuracy_score, classification_report,confusion_matrix\n",
    "from sklearn.utils import class_weight\n",
    "\n",
    "RANDOM_STATE_SEED = 12"
   ]
  },
  {
   "cell_type": "code",
   "execution_count": 2,
   "metadata": {
    "execution": {
     "iopub.execute_input": "2025-03-06T14:52:29.962176Z",
     "iopub.status.busy": "2025-03-06T14:52:29.961175Z",
     "iopub.status.idle": "2025-03-06T14:52:37.843028Z",
     "shell.execute_reply": "2025-03-06T14:52:37.841795Z",
     "shell.execute_reply.started": "2025-03-06T14:52:29.962137Z"
    },
    "trusted": true
   },
   "outputs": [],
   "source": [
    "# read the data\n",
    "df_dataset = pd.read_csv(r\"../kaggel/input/solarmainframe/ids-intrusion-csv/versions/1/02-14-2018.csv\")"
   ]
  },
  {
   "cell_type": "code",
   "execution_count": 3,
   "metadata": {
    "execution": {
     "iopub.execute_input": "2025-03-06T14:52:37.845342Z",
     "iopub.status.busy": "2025-03-06T14:52:37.845000Z",
     "iopub.status.idle": "2025-03-06T14:52:38.059605Z",
     "shell.execute_reply": "2025-03-06T14:52:38.058302Z",
     "shell.execute_reply.started": "2025-03-06T14:52:37.845312Z"
    },
    "trusted": true
   },
   "outputs": [
    {
     "data": {
      "text/html": [
       "<div>\n",
       "<style scoped>\n",
       "    .dataframe tbody tr th:only-of-type {\n",
       "        vertical-align: middle;\n",
       "    }\n",
       "\n",
       "    .dataframe tbody tr th {\n",
       "        vertical-align: top;\n",
       "    }\n",
       "\n",
       "    .dataframe thead th {\n",
       "        text-align: right;\n",
       "    }\n",
       "</style>\n",
       "<table border=\"1\" class=\"dataframe\">\n",
       "  <thead>\n",
       "    <tr style=\"text-align: right;\">\n",
       "      <th></th>\n",
       "      <th>Dst Port</th>\n",
       "      <th>Protocol</th>\n",
       "      <th>Timestamp</th>\n",
       "      <th>Flow Duration</th>\n",
       "      <th>Tot Fwd Pkts</th>\n",
       "      <th>Tot Bwd Pkts</th>\n",
       "      <th>TotLen Fwd Pkts</th>\n",
       "      <th>TotLen Bwd Pkts</th>\n",
       "      <th>Fwd Pkt Len Max</th>\n",
       "      <th>Fwd Pkt Len Min</th>\n",
       "      <th>...</th>\n",
       "      <th>Fwd Seg Size Min</th>\n",
       "      <th>Active Mean</th>\n",
       "      <th>Active Std</th>\n",
       "      <th>Active Max</th>\n",
       "      <th>Active Min</th>\n",
       "      <th>Idle Mean</th>\n",
       "      <th>Idle Std</th>\n",
       "      <th>Idle Max</th>\n",
       "      <th>Idle Min</th>\n",
       "      <th>Label</th>\n",
       "    </tr>\n",
       "  </thead>\n",
       "  <tbody>\n",
       "    <tr>\n",
       "      <th>0</th>\n",
       "      <td>0</td>\n",
       "      <td>0</td>\n",
       "      <td>14/02/2018 08:31:01</td>\n",
       "      <td>112641719</td>\n",
       "      <td>3</td>\n",
       "      <td>0</td>\n",
       "      <td>0</td>\n",
       "      <td>0</td>\n",
       "      <td>0</td>\n",
       "      <td>0</td>\n",
       "      <td>...</td>\n",
       "      <td>0</td>\n",
       "      <td>0.0</td>\n",
       "      <td>0.0</td>\n",
       "      <td>0</td>\n",
       "      <td>0</td>\n",
       "      <td>56320859.5</td>\n",
       "      <td>139.300036</td>\n",
       "      <td>56320958</td>\n",
       "      <td>56320761</td>\n",
       "      <td>Benign</td>\n",
       "    </tr>\n",
       "    <tr>\n",
       "      <th>1</th>\n",
       "      <td>0</td>\n",
       "      <td>0</td>\n",
       "      <td>14/02/2018 08:33:50</td>\n",
       "      <td>112641466</td>\n",
       "      <td>3</td>\n",
       "      <td>0</td>\n",
       "      <td>0</td>\n",
       "      <td>0</td>\n",
       "      <td>0</td>\n",
       "      <td>0</td>\n",
       "      <td>...</td>\n",
       "      <td>0</td>\n",
       "      <td>0.0</td>\n",
       "      <td>0.0</td>\n",
       "      <td>0</td>\n",
       "      <td>0</td>\n",
       "      <td>56320733.0</td>\n",
       "      <td>114.551299</td>\n",
       "      <td>56320814</td>\n",
       "      <td>56320652</td>\n",
       "      <td>Benign</td>\n",
       "    </tr>\n",
       "    <tr>\n",
       "      <th>2</th>\n",
       "      <td>0</td>\n",
       "      <td>0</td>\n",
       "      <td>14/02/2018 08:36:39</td>\n",
       "      <td>112638623</td>\n",
       "      <td>3</td>\n",
       "      <td>0</td>\n",
       "      <td>0</td>\n",
       "      <td>0</td>\n",
       "      <td>0</td>\n",
       "      <td>0</td>\n",
       "      <td>...</td>\n",
       "      <td>0</td>\n",
       "      <td>0.0</td>\n",
       "      <td>0.0</td>\n",
       "      <td>0</td>\n",
       "      <td>0</td>\n",
       "      <td>56319311.5</td>\n",
       "      <td>301.934596</td>\n",
       "      <td>56319525</td>\n",
       "      <td>56319098</td>\n",
       "      <td>Benign</td>\n",
       "    </tr>\n",
       "    <tr>\n",
       "      <th>3</th>\n",
       "      <td>22</td>\n",
       "      <td>6</td>\n",
       "      <td>14/02/2018 08:40:13</td>\n",
       "      <td>6453966</td>\n",
       "      <td>15</td>\n",
       "      <td>10</td>\n",
       "      <td>1239</td>\n",
       "      <td>2273</td>\n",
       "      <td>744</td>\n",
       "      <td>0</td>\n",
       "      <td>...</td>\n",
       "      <td>32</td>\n",
       "      <td>0.0</td>\n",
       "      <td>0.0</td>\n",
       "      <td>0</td>\n",
       "      <td>0</td>\n",
       "      <td>0.0</td>\n",
       "      <td>0.000000</td>\n",
       "      <td>0</td>\n",
       "      <td>0</td>\n",
       "      <td>Benign</td>\n",
       "    </tr>\n",
       "    <tr>\n",
       "      <th>4</th>\n",
       "      <td>22</td>\n",
       "      <td>6</td>\n",
       "      <td>14/02/2018 08:40:23</td>\n",
       "      <td>8804066</td>\n",
       "      <td>14</td>\n",
       "      <td>11</td>\n",
       "      <td>1143</td>\n",
       "      <td>2209</td>\n",
       "      <td>744</td>\n",
       "      <td>0</td>\n",
       "      <td>...</td>\n",
       "      <td>32</td>\n",
       "      <td>0.0</td>\n",
       "      <td>0.0</td>\n",
       "      <td>0</td>\n",
       "      <td>0</td>\n",
       "      <td>0.0</td>\n",
       "      <td>0.000000</td>\n",
       "      <td>0</td>\n",
       "      <td>0</td>\n",
       "      <td>Benign</td>\n",
       "    </tr>\n",
       "    <tr>\n",
       "      <th>...</th>\n",
       "      <td>...</td>\n",
       "      <td>...</td>\n",
       "      <td>...</td>\n",
       "      <td>...</td>\n",
       "      <td>...</td>\n",
       "      <td>...</td>\n",
       "      <td>...</td>\n",
       "      <td>...</td>\n",
       "      <td>...</td>\n",
       "      <td>...</td>\n",
       "      <td>...</td>\n",
       "      <td>...</td>\n",
       "      <td>...</td>\n",
       "      <td>...</td>\n",
       "      <td>...</td>\n",
       "      <td>...</td>\n",
       "      <td>...</td>\n",
       "      <td>...</td>\n",
       "      <td>...</td>\n",
       "      <td>...</td>\n",
       "      <td>...</td>\n",
       "    </tr>\n",
       "    <tr>\n",
       "      <th>1048570</th>\n",
       "      <td>80</td>\n",
       "      <td>6</td>\n",
       "      <td>14/02/2018 10:53:23</td>\n",
       "      <td>10156986</td>\n",
       "      <td>5</td>\n",
       "      <td>5</td>\n",
       "      <td>1089</td>\n",
       "      <td>1923</td>\n",
       "      <td>587</td>\n",
       "      <td>0</td>\n",
       "      <td>...</td>\n",
       "      <td>20</td>\n",
       "      <td>0.0</td>\n",
       "      <td>0.0</td>\n",
       "      <td>0</td>\n",
       "      <td>0</td>\n",
       "      <td>0.0</td>\n",
       "      <td>0.000000</td>\n",
       "      <td>0</td>\n",
       "      <td>0</td>\n",
       "      <td>Benign</td>\n",
       "    </tr>\n",
       "    <tr>\n",
       "      <th>1048571</th>\n",
       "      <td>80</td>\n",
       "      <td>6</td>\n",
       "      <td>14/02/2018 10:53:33</td>\n",
       "      <td>117</td>\n",
       "      <td>2</td>\n",
       "      <td>0</td>\n",
       "      <td>0</td>\n",
       "      <td>0</td>\n",
       "      <td>0</td>\n",
       "      <td>0</td>\n",
       "      <td>...</td>\n",
       "      <td>20</td>\n",
       "      <td>0.0</td>\n",
       "      <td>0.0</td>\n",
       "      <td>0</td>\n",
       "      <td>0</td>\n",
       "      <td>0.0</td>\n",
       "      <td>0.000000</td>\n",
       "      <td>0</td>\n",
       "      <td>0</td>\n",
       "      <td>Benign</td>\n",
       "    </tr>\n",
       "    <tr>\n",
       "      <th>1048572</th>\n",
       "      <td>80</td>\n",
       "      <td>6</td>\n",
       "      <td>14/02/2018 10:53:28</td>\n",
       "      <td>5095331</td>\n",
       "      <td>3</td>\n",
       "      <td>1</td>\n",
       "      <td>0</td>\n",
       "      <td>0</td>\n",
       "      <td>0</td>\n",
       "      <td>0</td>\n",
       "      <td>...</td>\n",
       "      <td>20</td>\n",
       "      <td>0.0</td>\n",
       "      <td>0.0</td>\n",
       "      <td>0</td>\n",
       "      <td>0</td>\n",
       "      <td>0.0</td>\n",
       "      <td>0.000000</td>\n",
       "      <td>0</td>\n",
       "      <td>0</td>\n",
       "      <td>Benign</td>\n",
       "    </tr>\n",
       "    <tr>\n",
       "      <th>1048573</th>\n",
       "      <td>80</td>\n",
       "      <td>6</td>\n",
       "      <td>14/02/2018 10:53:28</td>\n",
       "      <td>5235511</td>\n",
       "      <td>3</td>\n",
       "      <td>1</td>\n",
       "      <td>0</td>\n",
       "      <td>0</td>\n",
       "      <td>0</td>\n",
       "      <td>0</td>\n",
       "      <td>...</td>\n",
       "      <td>20</td>\n",
       "      <td>0.0</td>\n",
       "      <td>0.0</td>\n",
       "      <td>0</td>\n",
       "      <td>0</td>\n",
       "      <td>0.0</td>\n",
       "      <td>0.000000</td>\n",
       "      <td>0</td>\n",
       "      <td>0</td>\n",
       "      <td>Benign</td>\n",
       "    </tr>\n",
       "    <tr>\n",
       "      <th>1048574</th>\n",
       "      <td>443</td>\n",
       "      <td>6</td>\n",
       "      <td>14/02/2018 10:53:28</td>\n",
       "      <td>5807256</td>\n",
       "      <td>6</td>\n",
       "      <td>4</td>\n",
       "      <td>327</td>\n",
       "      <td>145</td>\n",
       "      <td>245</td>\n",
       "      <td>0</td>\n",
       "      <td>...</td>\n",
       "      <td>20</td>\n",
       "      <td>291569.0</td>\n",
       "      <td>0.0</td>\n",
       "      <td>291569</td>\n",
       "      <td>291569</td>\n",
       "      <td>5515650.0</td>\n",
       "      <td>0.000000</td>\n",
       "      <td>5515650</td>\n",
       "      <td>5515650</td>\n",
       "      <td>Benign</td>\n",
       "    </tr>\n",
       "  </tbody>\n",
       "</table>\n",
       "<p>1048575 rows × 80 columns</p>\n",
       "</div>"
      ],
      "text/plain": [
       "         Dst Port  Protocol            Timestamp  Flow Duration  Tot Fwd Pkts  \\\n",
       "0               0         0  14/02/2018 08:31:01      112641719             3   \n",
       "1               0         0  14/02/2018 08:33:50      112641466             3   \n",
       "2               0         0  14/02/2018 08:36:39      112638623             3   \n",
       "3              22         6  14/02/2018 08:40:13        6453966            15   \n",
       "4              22         6  14/02/2018 08:40:23        8804066            14   \n",
       "...           ...       ...                  ...            ...           ...   \n",
       "1048570        80         6  14/02/2018 10:53:23       10156986             5   \n",
       "1048571        80         6  14/02/2018 10:53:33            117             2   \n",
       "1048572        80         6  14/02/2018 10:53:28        5095331             3   \n",
       "1048573        80         6  14/02/2018 10:53:28        5235511             3   \n",
       "1048574       443         6  14/02/2018 10:53:28        5807256             6   \n",
       "\n",
       "         Tot Bwd Pkts  TotLen Fwd Pkts  TotLen Bwd Pkts  Fwd Pkt Len Max  \\\n",
       "0                   0                0                0                0   \n",
       "1                   0                0                0                0   \n",
       "2                   0                0                0                0   \n",
       "3                  10             1239             2273              744   \n",
       "4                  11             1143             2209              744   \n",
       "...               ...              ...              ...              ...   \n",
       "1048570             5             1089             1923              587   \n",
       "1048571             0                0                0                0   \n",
       "1048572             1                0                0                0   \n",
       "1048573             1                0                0                0   \n",
       "1048574             4              327              145              245   \n",
       "\n",
       "         Fwd Pkt Len Min  ...  Fwd Seg Size Min  Active Mean  Active Std  \\\n",
       "0                      0  ...                 0          0.0         0.0   \n",
       "1                      0  ...                 0          0.0         0.0   \n",
       "2                      0  ...                 0          0.0         0.0   \n",
       "3                      0  ...                32          0.0         0.0   \n",
       "4                      0  ...                32          0.0         0.0   \n",
       "...                  ...  ...               ...          ...         ...   \n",
       "1048570                0  ...                20          0.0         0.0   \n",
       "1048571                0  ...                20          0.0         0.0   \n",
       "1048572                0  ...                20          0.0         0.0   \n",
       "1048573                0  ...                20          0.0         0.0   \n",
       "1048574                0  ...                20     291569.0         0.0   \n",
       "\n",
       "         Active Max  Active Min   Idle Mean    Idle Std  Idle Max  Idle Min  \\\n",
       "0                 0           0  56320859.5  139.300036  56320958  56320761   \n",
       "1                 0           0  56320733.0  114.551299  56320814  56320652   \n",
       "2                 0           0  56319311.5  301.934596  56319525  56319098   \n",
       "3                 0           0         0.0    0.000000         0         0   \n",
       "4                 0           0         0.0    0.000000         0         0   \n",
       "...             ...         ...         ...         ...       ...       ...   \n",
       "1048570           0           0         0.0    0.000000         0         0   \n",
       "1048571           0           0         0.0    0.000000         0         0   \n",
       "1048572           0           0         0.0    0.000000         0         0   \n",
       "1048573           0           0         0.0    0.000000         0         0   \n",
       "1048574      291569      291569   5515650.0    0.000000   5515650   5515650   \n",
       "\n",
       "          Label  \n",
       "0        Benign  \n",
       "1        Benign  \n",
       "2        Benign  \n",
       "3        Benign  \n",
       "4        Benign  \n",
       "...         ...  \n",
       "1048570  Benign  \n",
       "1048571  Benign  \n",
       "1048572  Benign  \n",
       "1048573  Benign  \n",
       "1048574  Benign  \n",
       "\n",
       "[1048575 rows x 80 columns]"
      ]
     },
     "execution_count": 3,
     "metadata": {},
     "output_type": "execute_result"
    }
   ],
   "source": [
    "# display data\n",
    "df_dataset"
   ]
  },
  {
   "cell_type": "code",
   "execution_count": 4,
   "metadata": {
    "execution": {
     "iopub.execute_input": "2025-03-06T14:53:13.061080Z",
     "iopub.status.busy": "2025-03-06T14:53:13.060068Z",
     "iopub.status.idle": "2025-03-06T14:53:13.089861Z",
     "shell.execute_reply": "2025-03-06T14:53:13.088551Z",
     "shell.execute_reply.started": "2025-03-06T14:53:13.061038Z"
    },
    "trusted": true
   },
   "outputs": [
    {
     "name": "stdout",
     "output_type": "stream",
     "text": [
      "   Dst Port  Protocol  Flow Duration  Tot Fwd Pkts  Tot Bwd Pkts   Label\n",
      "0         0         0      112641719             3             0  Benign\n",
      "1         0         0      112641466             3             0  Benign\n",
      "2         0         0      112638623             3             0  Benign\n",
      "3        22         6        6453966            15            10  Benign\n",
      "4        22         6        8804066            14            11  Benign\n"
     ]
    }
   ],
   "source": [
    "selected_columns = ['Dst Port', 'Protocol', 'Flow Duration', 'Tot Fwd Pkts', 'Tot Bwd Pkts', 'Label']\n",
    "df_dataset = df_dataset[selected_columns]\n",
    "print(df_dataset.head())"
   ]
  },
  {
   "cell_type": "code",
   "execution_count": 5,
   "metadata": {
    "execution": {
     "iopub.execute_input": "2025-03-06T14:53:13.914435Z",
     "iopub.status.busy": "2025-03-06T14:53:13.914020Z",
     "iopub.status.idle": "2025-03-06T14:53:13.989158Z",
     "shell.execute_reply": "2025-03-06T14:53:13.987956Z",
     "shell.execute_reply.started": "2025-03-06T14:53:13.914402Z"
    },
    "trusted": true
   },
   "outputs": [
    {
     "name": "stdout",
     "output_type": "stream",
     "text": [
      "<class 'pandas.core.frame.DataFrame'>\n",
      "RangeIndex: 1048575 entries, 0 to 1048574\n",
      "Data columns (total 6 columns):\n",
      " #   Column         Non-Null Count    Dtype \n",
      "---  ------         --------------    ----- \n",
      " 0   Dst Port       1048575 non-null  int64 \n",
      " 1   Protocol       1048575 non-null  int64 \n",
      " 2   Flow Duration  1048575 non-null  int64 \n",
      " 3   Tot Fwd Pkts   1048575 non-null  int64 \n",
      " 4   Tot Bwd Pkts   1048575 non-null  int64 \n",
      " 5   Label          1048575 non-null  object\n",
      "dtypes: int64(5), object(1)\n",
      "memory usage: 48.0+ MB\n"
     ]
    }
   ],
   "source": [
    "# feature information\n",
    "df_dataset.info()"
   ]
  },
  {
   "cell_type": "code",
   "execution_count": 6,
   "metadata": {
    "execution": {
     "iopub.execute_input": "2025-03-06T14:53:16.226147Z",
     "iopub.status.busy": "2025-03-06T14:53:16.225765Z",
     "iopub.status.idle": "2025-03-06T14:53:16.362354Z",
     "shell.execute_reply": "2025-03-06T14:53:16.361108Z",
     "shell.execute_reply.started": "2025-03-06T14:53:16.226119Z"
    },
    "trusted": true
   },
   "outputs": [
    {
     "name": "stderr",
     "output_type": "stream",
     "text": [
      "C:\\Users\\MY PC\\AppData\\Local\\Temp\\ipykernel_2864\\4071566764.py:2: SettingWithCopyWarning: \n",
      "A value is trying to be set on a copy of a slice from a DataFrame\n",
      "\n",
      "See the caveats in the documentation: https://pandas.pydata.org/pandas-docs/stable/user_guide/indexing.html#returning-a-view-versus-a-copy\n",
      "  df_dataset.replace([np.inf, -np.inf], np.nan, inplace=True)\n"
     ]
    }
   ],
   "source": [
    "# replace +ve and -ve infinity with NaN\n",
    "df_dataset.replace([np.inf, -np.inf], np.nan, inplace=True)"
   ]
  },
  {
   "cell_type": "code",
   "execution_count": 7,
   "metadata": {
    "execution": {
     "iopub.execute_input": "2025-03-06T14:53:17.714846Z",
     "iopub.status.busy": "2025-03-06T14:53:17.714440Z",
     "iopub.status.idle": "2025-03-06T14:53:17.875783Z",
     "shell.execute_reply": "2025-03-06T14:53:17.874666Z",
     "shell.execute_reply.started": "2025-03-06T14:53:17.714811Z"
    },
    "trusted": true
   },
   "outputs": [
    {
     "data": {
      "text/html": [
       "<div>\n",
       "<style scoped>\n",
       "    .dataframe tbody tr th:only-of-type {\n",
       "        vertical-align: middle;\n",
       "    }\n",
       "\n",
       "    .dataframe tbody tr th {\n",
       "        vertical-align: top;\n",
       "    }\n",
       "\n",
       "    .dataframe thead th {\n",
       "        text-align: right;\n",
       "    }\n",
       "</style>\n",
       "<table border=\"1\" class=\"dataframe\">\n",
       "  <thead>\n",
       "    <tr style=\"text-align: right;\">\n",
       "      <th></th>\n",
       "      <th>Dst Port</th>\n",
       "      <th>Protocol</th>\n",
       "      <th>Flow Duration</th>\n",
       "      <th>Tot Fwd Pkts</th>\n",
       "      <th>Tot Bwd Pkts</th>\n",
       "    </tr>\n",
       "  </thead>\n",
       "  <tbody>\n",
       "    <tr>\n",
       "      <th>count</th>\n",
       "      <td>1.048575e+06</td>\n",
       "      <td>1.048575e+06</td>\n",
       "      <td>1.048575e+06</td>\n",
       "      <td>1.048575e+06</td>\n",
       "      <td>1.048575e+06</td>\n",
       "    </tr>\n",
       "    <tr>\n",
       "      <th>mean</th>\n",
       "      <td>4.876262e+03</td>\n",
       "      <td>8.107557e+00</td>\n",
       "      <td>6.255555e+06</td>\n",
       "      <td>6.206622e+00</td>\n",
       "      <td>7.211191e+00</td>\n",
       "    </tr>\n",
       "    <tr>\n",
       "      <th>std</th>\n",
       "      <td>1.444344e+04</td>\n",
       "      <td>4.460625e+00</td>\n",
       "      <td>1.260291e+09</td>\n",
       "      <td>4.447851e+01</td>\n",
       "      <td>1.048682e+02</td>\n",
       "    </tr>\n",
       "    <tr>\n",
       "      <th>min</th>\n",
       "      <td>0.000000e+00</td>\n",
       "      <td>0.000000e+00</td>\n",
       "      <td>-9.190110e+11</td>\n",
       "      <td>1.000000e+00</td>\n",
       "      <td>0.000000e+00</td>\n",
       "    </tr>\n",
       "    <tr>\n",
       "      <th>25%</th>\n",
       "      <td>2.200000e+01</td>\n",
       "      <td>6.000000e+00</td>\n",
       "      <td>7.000000e+00</td>\n",
       "      <td>1.000000e+00</td>\n",
       "      <td>1.000000e+00</td>\n",
       "    </tr>\n",
       "    <tr>\n",
       "      <th>50%</th>\n",
       "      <td>5.300000e+01</td>\n",
       "      <td>6.000000e+00</td>\n",
       "      <td>1.023000e+03</td>\n",
       "      <td>2.000000e+00</td>\n",
       "      <td>1.000000e+00</td>\n",
       "    </tr>\n",
       "    <tr>\n",
       "      <th>75%</th>\n",
       "      <td>4.430000e+02</td>\n",
       "      <td>6.000000e+00</td>\n",
       "      <td>4.066690e+05</td>\n",
       "      <td>7.000000e+00</td>\n",
       "      <td>6.000000e+00</td>\n",
       "    </tr>\n",
       "    <tr>\n",
       "      <th>max</th>\n",
       "      <td>6.553300e+04</td>\n",
       "      <td>1.700000e+01</td>\n",
       "      <td>1.200000e+08</td>\n",
       "      <td>5.115000e+03</td>\n",
       "      <td>9.198000e+03</td>\n",
       "    </tr>\n",
       "  </tbody>\n",
       "</table>\n",
       "</div>"
      ],
      "text/plain": [
       "           Dst Port      Protocol  Flow Duration  Tot Fwd Pkts  Tot Bwd Pkts\n",
       "count  1.048575e+06  1.048575e+06   1.048575e+06  1.048575e+06  1.048575e+06\n",
       "mean   4.876262e+03  8.107557e+00   6.255555e+06  6.206622e+00  7.211191e+00\n",
       "std    1.444344e+04  4.460625e+00   1.260291e+09  4.447851e+01  1.048682e+02\n",
       "min    0.000000e+00  0.000000e+00  -9.190110e+11  1.000000e+00  0.000000e+00\n",
       "25%    2.200000e+01  6.000000e+00   7.000000e+00  1.000000e+00  1.000000e+00\n",
       "50%    5.300000e+01  6.000000e+00   1.023000e+03  2.000000e+00  1.000000e+00\n",
       "75%    4.430000e+02  6.000000e+00   4.066690e+05  7.000000e+00  6.000000e+00\n",
       "max    6.553300e+04  1.700000e+01   1.200000e+08  5.115000e+03  9.198000e+03"
      ]
     },
     "execution_count": 7,
     "metadata": {},
     "output_type": "execute_result"
    }
   ],
   "source": [
    "df_dataset.describe()"
   ]
  },
  {
   "cell_type": "code",
   "execution_count": 8,
   "metadata": {
    "execution": {
     "iopub.execute_input": "2025-03-06T14:53:20.419370Z",
     "iopub.status.busy": "2025-03-06T14:53:20.418961Z",
     "iopub.status.idle": "2025-03-06T14:53:20.528586Z",
     "shell.execute_reply": "2025-03-06T14:53:20.527621Z",
     "shell.execute_reply.started": "2025-03-06T14:53:20.419337Z"
    },
    "trusted": true
   },
   "outputs": [
    {
     "name": "stderr",
     "output_type": "stream",
     "text": [
      "C:\\Users\\MY PC\\AppData\\Local\\Temp\\ipykernel_2864\\657638106.py:2: SettingWithCopyWarning: \n",
      "A value is trying to be set on a copy of a slice from a DataFrame\n",
      "\n",
      "See the caveats in the documentation: https://pandas.pydata.org/pandas-docs/stable/user_guide/indexing.html#returning-a-view-versus-a-copy\n",
      "  df_dataset.dropna(inplace=True)\n"
     ]
    }
   ],
   "source": [
    "# drop missing values\n",
    "df_dataset.dropna(inplace=True)"
   ]
  },
  {
   "cell_type": "code",
   "execution_count": 9,
   "metadata": {
    "execution": {
     "iopub.execute_input": "2025-03-06T14:53:21.674823Z",
     "iopub.status.busy": "2025-03-06T14:53:21.673756Z",
     "iopub.status.idle": "2025-03-06T14:53:21.689617Z",
     "shell.execute_reply": "2025-03-06T14:53:21.687817Z",
     "shell.execute_reply.started": "2025-03-06T14:53:21.674756Z"
    },
    "trusted": true
   },
   "outputs": [
    {
     "data": {
      "text/html": [
       "<div>\n",
       "<style scoped>\n",
       "    .dataframe tbody tr th:only-of-type {\n",
       "        vertical-align: middle;\n",
       "    }\n",
       "\n",
       "    .dataframe tbody tr th {\n",
       "        vertical-align: top;\n",
       "    }\n",
       "\n",
       "    .dataframe thead th {\n",
       "        text-align: right;\n",
       "    }\n",
       "</style>\n",
       "<table border=\"1\" class=\"dataframe\">\n",
       "  <thead>\n",
       "    <tr style=\"text-align: right;\">\n",
       "      <th></th>\n",
       "      <th>Dst Port</th>\n",
       "      <th>Protocol</th>\n",
       "      <th>Flow Duration</th>\n",
       "      <th>Tot Fwd Pkts</th>\n",
       "      <th>Tot Bwd Pkts</th>\n",
       "      <th>Label</th>\n",
       "    </tr>\n",
       "  </thead>\n",
       "  <tbody>\n",
       "    <tr>\n",
       "      <th>0</th>\n",
       "      <td>0</td>\n",
       "      <td>0</td>\n",
       "      <td>112641719</td>\n",
       "      <td>3</td>\n",
       "      <td>0</td>\n",
       "      <td>Benign</td>\n",
       "    </tr>\n",
       "    <tr>\n",
       "      <th>1</th>\n",
       "      <td>0</td>\n",
       "      <td>0</td>\n",
       "      <td>112641466</td>\n",
       "      <td>3</td>\n",
       "      <td>0</td>\n",
       "      <td>Benign</td>\n",
       "    </tr>\n",
       "    <tr>\n",
       "      <th>2</th>\n",
       "      <td>0</td>\n",
       "      <td>0</td>\n",
       "      <td>112638623</td>\n",
       "      <td>3</td>\n",
       "      <td>0</td>\n",
       "      <td>Benign</td>\n",
       "    </tr>\n",
       "    <tr>\n",
       "      <th>3</th>\n",
       "      <td>22</td>\n",
       "      <td>6</td>\n",
       "      <td>6453966</td>\n",
       "      <td>15</td>\n",
       "      <td>10</td>\n",
       "      <td>Benign</td>\n",
       "    </tr>\n",
       "    <tr>\n",
       "      <th>4</th>\n",
       "      <td>22</td>\n",
       "      <td>6</td>\n",
       "      <td>8804066</td>\n",
       "      <td>14</td>\n",
       "      <td>11</td>\n",
       "      <td>Benign</td>\n",
       "    </tr>\n",
       "    <tr>\n",
       "      <th>...</th>\n",
       "      <td>...</td>\n",
       "      <td>...</td>\n",
       "      <td>...</td>\n",
       "      <td>...</td>\n",
       "      <td>...</td>\n",
       "      <td>...</td>\n",
       "    </tr>\n",
       "    <tr>\n",
       "      <th>1048570</th>\n",
       "      <td>80</td>\n",
       "      <td>6</td>\n",
       "      <td>10156986</td>\n",
       "      <td>5</td>\n",
       "      <td>5</td>\n",
       "      <td>Benign</td>\n",
       "    </tr>\n",
       "    <tr>\n",
       "      <th>1048571</th>\n",
       "      <td>80</td>\n",
       "      <td>6</td>\n",
       "      <td>117</td>\n",
       "      <td>2</td>\n",
       "      <td>0</td>\n",
       "      <td>Benign</td>\n",
       "    </tr>\n",
       "    <tr>\n",
       "      <th>1048572</th>\n",
       "      <td>80</td>\n",
       "      <td>6</td>\n",
       "      <td>5095331</td>\n",
       "      <td>3</td>\n",
       "      <td>1</td>\n",
       "      <td>Benign</td>\n",
       "    </tr>\n",
       "    <tr>\n",
       "      <th>1048573</th>\n",
       "      <td>80</td>\n",
       "      <td>6</td>\n",
       "      <td>5235511</td>\n",
       "      <td>3</td>\n",
       "      <td>1</td>\n",
       "      <td>Benign</td>\n",
       "    </tr>\n",
       "    <tr>\n",
       "      <th>1048574</th>\n",
       "      <td>443</td>\n",
       "      <td>6</td>\n",
       "      <td>5807256</td>\n",
       "      <td>6</td>\n",
       "      <td>4</td>\n",
       "      <td>Benign</td>\n",
       "    </tr>\n",
       "  </tbody>\n",
       "</table>\n",
       "<p>1048575 rows × 6 columns</p>\n",
       "</div>"
      ],
      "text/plain": [
       "         Dst Port  Protocol  Flow Duration  Tot Fwd Pkts  Tot Bwd Pkts   Label\n",
       "0               0         0      112641719             3             0  Benign\n",
       "1               0         0      112641466             3             0  Benign\n",
       "2               0         0      112638623             3             0  Benign\n",
       "3              22         6        6453966            15            10  Benign\n",
       "4              22         6        8804066            14            11  Benign\n",
       "...           ...       ...            ...           ...           ...     ...\n",
       "1048570        80         6       10156986             5             5  Benign\n",
       "1048571        80         6            117             2             0  Benign\n",
       "1048572        80         6        5095331             3             1  Benign\n",
       "1048573        80         6        5235511             3             1  Benign\n",
       "1048574       443         6        5807256             6             4  Benign\n",
       "\n",
       "[1048575 rows x 6 columns]"
      ]
     },
     "execution_count": 9,
     "metadata": {},
     "output_type": "execute_result"
    }
   ],
   "source": [
    "df_dataset"
   ]
  },
  {
   "cell_type": "code",
   "execution_count": 10,
   "metadata": {
    "execution": {
     "iopub.execute_input": "2025-03-06T14:53:23.651013Z",
     "iopub.status.busy": "2025-03-06T14:53:23.650614Z",
     "iopub.status.idle": "2025-03-06T14:53:23.736215Z",
     "shell.execute_reply": "2025-03-06T14:53:23.734952Z",
     "shell.execute_reply.started": "2025-03-06T14:53:23.650969Z"
    },
    "trusted": true
   },
   "outputs": [
    {
     "data": {
      "text/plain": [
       "Benign            667626\n",
       "FTP-BruteForce    193360\n",
       "SSH-Bruteforce    187589\n",
       "Name: Label, dtype: int64"
      ]
     },
     "execution_count": 10,
     "metadata": {},
     "output_type": "execute_result"
    }
   ],
   "source": [
    "df_dataset[\"Label\"].value_counts()"
   ]
  },
  {
   "cell_type": "code",
   "execution_count": 11,
   "metadata": {
    "execution": {
     "iopub.execute_input": "2025-03-06T14:53:25.136294Z",
     "iopub.status.busy": "2025-03-06T14:53:25.135861Z",
     "iopub.status.idle": "2025-03-06T14:53:25.141324Z",
     "shell.execute_reply": "2025-03-06T14:53:25.140119Z",
     "shell.execute_reply.started": "2025-03-06T14:53:25.136262Z"
    },
    "trusted": true
   },
   "outputs": [],
   "source": [
    "df = df_dataset"
   ]
  },
  {
   "cell_type": "markdown",
   "metadata": {},
   "source": [
    "We will now try to visualize the target feature's class distribution."
   ]
  },
  {
   "cell_type": "code",
   "execution_count": 12,
   "metadata": {
    "execution": {
     "iopub.execute_input": "2025-03-06T14:53:32.215841Z",
     "iopub.status.busy": "2025-03-06T14:53:32.215477Z",
     "iopub.status.idle": "2025-03-06T14:53:32.718415Z",
     "shell.execute_reply": "2025-03-06T14:53:32.717311Z",
     "shell.execute_reply.started": "2025-03-06T14:53:32.215806Z"
    },
    "trusted": true
   },
   "outputs": [
    {
     "data": {
      "text/html": [
       "        <script type=\"text/javascript\">\n",
       "        window.PlotlyConfig = {MathJaxConfig: 'local'};\n",
       "        if (window.MathJax && window.MathJax.Hub && window.MathJax.Hub.Config) {window.MathJax.Hub.Config({SVG: {font: \"STIX-Web\"}});}\n",
       "        if (typeof require !== 'undefined') {\n",
       "        require.undef(\"plotly\");\n",
       "        requirejs.config({\n",
       "            paths: {\n",
       "                'plotly': ['https://cdn.plot.ly/plotly-2.18.0.min']\n",
       "            }\n",
       "        });\n",
       "        require(['plotly'], function(Plotly) {\n",
       "            window._Plotly = Plotly;\n",
       "        });\n",
       "        }\n",
       "        </script>\n",
       "        "
      ]
     },
     "metadata": {},
     "output_type": "display_data"
    },
    {
     "data": {
      "application/vnd.plotly.v1+json": {
       "config": {
        "linkText": "Export to plot.ly",
        "plotlyServerURL": "https://plot.ly",
        "showLink": false
       },
       "data": [
        {
         "name": "Benign",
         "orientation": "v",
         "text": [
          667626
         ],
         "textposition": "outside",
         "type": "bar",
         "x": [
          "Benign"
         ],
         "y": [
          667626
         ]
        },
        {
         "name": "FTP-BruteForce",
         "orientation": "v",
         "text": [
          193360
         ],
         "textposition": "outside",
         "type": "bar",
         "x": [
          "FTP-BruteForce"
         ],
         "y": [
          193360
         ]
        },
        {
         "name": "SSH-Bruteforce",
         "orientation": "v",
         "text": [
          187589
         ],
         "textposition": "outside",
         "type": "bar",
         "x": [
          "SSH-Bruteforce"
         ],
         "y": [
          187589
         ]
        }
       ],
       "layout": {
        "height": 600,
        "template": {
         "data": {
          "bar": [
           {
            "error_x": {
             "color": "#2a3f5f"
            },
            "error_y": {
             "color": "#2a3f5f"
            },
            "marker": {
             "line": {
              "color": "#E5ECF6",
              "width": 0.5
             },
             "pattern": {
              "fillmode": "overlay",
              "size": 10,
              "solidity": 0.2
             }
            },
            "type": "bar"
           }
          ],
          "barpolar": [
           {
            "marker": {
             "line": {
              "color": "#E5ECF6",
              "width": 0.5
             },
             "pattern": {
              "fillmode": "overlay",
              "size": 10,
              "solidity": 0.2
             }
            },
            "type": "barpolar"
           }
          ],
          "carpet": [
           {
            "aaxis": {
             "endlinecolor": "#2a3f5f",
             "gridcolor": "white",
             "linecolor": "white",
             "minorgridcolor": "white",
             "startlinecolor": "#2a3f5f"
            },
            "baxis": {
             "endlinecolor": "#2a3f5f",
             "gridcolor": "white",
             "linecolor": "white",
             "minorgridcolor": "white",
             "startlinecolor": "#2a3f5f"
            },
            "type": "carpet"
           }
          ],
          "choropleth": [
           {
            "colorbar": {
             "outlinewidth": 0,
             "ticks": ""
            },
            "type": "choropleth"
           }
          ],
          "contour": [
           {
            "colorbar": {
             "outlinewidth": 0,
             "ticks": ""
            },
            "colorscale": [
             [
              0,
              "#0d0887"
             ],
             [
              0.1111111111111111,
              "#46039f"
             ],
             [
              0.2222222222222222,
              "#7201a8"
             ],
             [
              0.3333333333333333,
              "#9c179e"
             ],
             [
              0.4444444444444444,
              "#bd3786"
             ],
             [
              0.5555555555555556,
              "#d8576b"
             ],
             [
              0.6666666666666666,
              "#ed7953"
             ],
             [
              0.7777777777777778,
              "#fb9f3a"
             ],
             [
              0.8888888888888888,
              "#fdca26"
             ],
             [
              1,
              "#f0f921"
             ]
            ],
            "type": "contour"
           }
          ],
          "contourcarpet": [
           {
            "colorbar": {
             "outlinewidth": 0,
             "ticks": ""
            },
            "type": "contourcarpet"
           }
          ],
          "heatmap": [
           {
            "colorbar": {
             "outlinewidth": 0,
             "ticks": ""
            },
            "colorscale": [
             [
              0,
              "#0d0887"
             ],
             [
              0.1111111111111111,
              "#46039f"
             ],
             [
              0.2222222222222222,
              "#7201a8"
             ],
             [
              0.3333333333333333,
              "#9c179e"
             ],
             [
              0.4444444444444444,
              "#bd3786"
             ],
             [
              0.5555555555555556,
              "#d8576b"
             ],
             [
              0.6666666666666666,
              "#ed7953"
             ],
             [
              0.7777777777777778,
              "#fb9f3a"
             ],
             [
              0.8888888888888888,
              "#fdca26"
             ],
             [
              1,
              "#f0f921"
             ]
            ],
            "type": "heatmap"
           }
          ],
          "heatmapgl": [
           {
            "colorbar": {
             "outlinewidth": 0,
             "ticks": ""
            },
            "colorscale": [
             [
              0,
              "#0d0887"
             ],
             [
              0.1111111111111111,
              "#46039f"
             ],
             [
              0.2222222222222222,
              "#7201a8"
             ],
             [
              0.3333333333333333,
              "#9c179e"
             ],
             [
              0.4444444444444444,
              "#bd3786"
             ],
             [
              0.5555555555555556,
              "#d8576b"
             ],
             [
              0.6666666666666666,
              "#ed7953"
             ],
             [
              0.7777777777777778,
              "#fb9f3a"
             ],
             [
              0.8888888888888888,
              "#fdca26"
             ],
             [
              1,
              "#f0f921"
             ]
            ],
            "type": "heatmapgl"
           }
          ],
          "histogram": [
           {
            "marker": {
             "pattern": {
              "fillmode": "overlay",
              "size": 10,
              "solidity": 0.2
             }
            },
            "type": "histogram"
           }
          ],
          "histogram2d": [
           {
            "colorbar": {
             "outlinewidth": 0,
             "ticks": ""
            },
            "colorscale": [
             [
              0,
              "#0d0887"
             ],
             [
              0.1111111111111111,
              "#46039f"
             ],
             [
              0.2222222222222222,
              "#7201a8"
             ],
             [
              0.3333333333333333,
              "#9c179e"
             ],
             [
              0.4444444444444444,
              "#bd3786"
             ],
             [
              0.5555555555555556,
              "#d8576b"
             ],
             [
              0.6666666666666666,
              "#ed7953"
             ],
             [
              0.7777777777777778,
              "#fb9f3a"
             ],
             [
              0.8888888888888888,
              "#fdca26"
             ],
             [
              1,
              "#f0f921"
             ]
            ],
            "type": "histogram2d"
           }
          ],
          "histogram2dcontour": [
           {
            "colorbar": {
             "outlinewidth": 0,
             "ticks": ""
            },
            "colorscale": [
             [
              0,
              "#0d0887"
             ],
             [
              0.1111111111111111,
              "#46039f"
             ],
             [
              0.2222222222222222,
              "#7201a8"
             ],
             [
              0.3333333333333333,
              "#9c179e"
             ],
             [
              0.4444444444444444,
              "#bd3786"
             ],
             [
              0.5555555555555556,
              "#d8576b"
             ],
             [
              0.6666666666666666,
              "#ed7953"
             ],
             [
              0.7777777777777778,
              "#fb9f3a"
             ],
             [
              0.8888888888888888,
              "#fdca26"
             ],
             [
              1,
              "#f0f921"
             ]
            ],
            "type": "histogram2dcontour"
           }
          ],
          "mesh3d": [
           {
            "colorbar": {
             "outlinewidth": 0,
             "ticks": ""
            },
            "type": "mesh3d"
           }
          ],
          "parcoords": [
           {
            "line": {
             "colorbar": {
              "outlinewidth": 0,
              "ticks": ""
             }
            },
            "type": "parcoords"
           }
          ],
          "pie": [
           {
            "automargin": true,
            "type": "pie"
           }
          ],
          "scatter": [
           {
            "fillpattern": {
             "fillmode": "overlay",
             "size": 10,
             "solidity": 0.2
            },
            "type": "scatter"
           }
          ],
          "scatter3d": [
           {
            "line": {
             "colorbar": {
              "outlinewidth": 0,
              "ticks": ""
             }
            },
            "marker": {
             "colorbar": {
              "outlinewidth": 0,
              "ticks": ""
             }
            },
            "type": "scatter3d"
           }
          ],
          "scattercarpet": [
           {
            "marker": {
             "colorbar": {
              "outlinewidth": 0,
              "ticks": ""
             }
            },
            "type": "scattercarpet"
           }
          ],
          "scattergeo": [
           {
            "marker": {
             "colorbar": {
              "outlinewidth": 0,
              "ticks": ""
             }
            },
            "type": "scattergeo"
           }
          ],
          "scattergl": [
           {
            "marker": {
             "colorbar": {
              "outlinewidth": 0,
              "ticks": ""
             }
            },
            "type": "scattergl"
           }
          ],
          "scattermapbox": [
           {
            "marker": {
             "colorbar": {
              "outlinewidth": 0,
              "ticks": ""
             }
            },
            "type": "scattermapbox"
           }
          ],
          "scatterpolar": [
           {
            "marker": {
             "colorbar": {
              "outlinewidth": 0,
              "ticks": ""
             }
            },
            "type": "scatterpolar"
           }
          ],
          "scatterpolargl": [
           {
            "marker": {
             "colorbar": {
              "outlinewidth": 0,
              "ticks": ""
             }
            },
            "type": "scatterpolargl"
           }
          ],
          "scatterternary": [
           {
            "marker": {
             "colorbar": {
              "outlinewidth": 0,
              "ticks": ""
             }
            },
            "type": "scatterternary"
           }
          ],
          "surface": [
           {
            "colorbar": {
             "outlinewidth": 0,
             "ticks": ""
            },
            "colorscale": [
             [
              0,
              "#0d0887"
             ],
             [
              0.1111111111111111,
              "#46039f"
             ],
             [
              0.2222222222222222,
              "#7201a8"
             ],
             [
              0.3333333333333333,
              "#9c179e"
             ],
             [
              0.4444444444444444,
              "#bd3786"
             ],
             [
              0.5555555555555556,
              "#d8576b"
             ],
             [
              0.6666666666666666,
              "#ed7953"
             ],
             [
              0.7777777777777778,
              "#fb9f3a"
             ],
             [
              0.8888888888888888,
              "#fdca26"
             ],
             [
              1,
              "#f0f921"
             ]
            ],
            "type": "surface"
           }
          ],
          "table": [
           {
            "cells": {
             "fill": {
              "color": "#EBF0F8"
             },
             "line": {
              "color": "white"
             }
            },
            "header": {
             "fill": {
              "color": "#C8D4E3"
             },
             "line": {
              "color": "white"
             }
            },
            "type": "table"
           }
          ]
         },
         "layout": {
          "annotationdefaults": {
           "arrowcolor": "#2a3f5f",
           "arrowhead": 0,
           "arrowwidth": 1
          },
          "autotypenumbers": "strict",
          "coloraxis": {
           "colorbar": {
            "outlinewidth": 0,
            "ticks": ""
           }
          },
          "colorscale": {
           "diverging": [
            [
             0,
             "#8e0152"
            ],
            [
             0.1,
             "#c51b7d"
            ],
            [
             0.2,
             "#de77ae"
            ],
            [
             0.3,
             "#f1b6da"
            ],
            [
             0.4,
             "#fde0ef"
            ],
            [
             0.5,
             "#f7f7f7"
            ],
            [
             0.6,
             "#e6f5d0"
            ],
            [
             0.7,
             "#b8e186"
            ],
            [
             0.8,
             "#7fbc41"
            ],
            [
             0.9,
             "#4d9221"
            ],
            [
             1,
             "#276419"
            ]
           ],
           "sequential": [
            [
             0,
             "#0d0887"
            ],
            [
             0.1111111111111111,
             "#46039f"
            ],
            [
             0.2222222222222222,
             "#7201a8"
            ],
            [
             0.3333333333333333,
             "#9c179e"
            ],
            [
             0.4444444444444444,
             "#bd3786"
            ],
            [
             0.5555555555555556,
             "#d8576b"
            ],
            [
             0.6666666666666666,
             "#ed7953"
            ],
            [
             0.7777777777777778,
             "#fb9f3a"
            ],
            [
             0.8888888888888888,
             "#fdca26"
            ],
            [
             1,
             "#f0f921"
            ]
           ],
           "sequentialminus": [
            [
             0,
             "#0d0887"
            ],
            [
             0.1111111111111111,
             "#46039f"
            ],
            [
             0.2222222222222222,
             "#7201a8"
            ],
            [
             0.3333333333333333,
             "#9c179e"
            ],
            [
             0.4444444444444444,
             "#bd3786"
            ],
            [
             0.5555555555555556,
             "#d8576b"
            ],
            [
             0.6666666666666666,
             "#ed7953"
            ],
            [
             0.7777777777777778,
             "#fb9f3a"
            ],
            [
             0.8888888888888888,
             "#fdca26"
            ],
            [
             1,
             "#f0f921"
            ]
           ]
          },
          "colorway": [
           "#636efa",
           "#EF553B",
           "#00cc96",
           "#ab63fa",
           "#FFA15A",
           "#19d3f3",
           "#FF6692",
           "#B6E880",
           "#FF97FF",
           "#FECB52"
          ],
          "font": {
           "color": "#2a3f5f"
          },
          "geo": {
           "bgcolor": "white",
           "lakecolor": "white",
           "landcolor": "#E5ECF6",
           "showlakes": true,
           "showland": true,
           "subunitcolor": "white"
          },
          "hoverlabel": {
           "align": "left"
          },
          "hovermode": "closest",
          "mapbox": {
           "style": "light"
          },
          "paper_bgcolor": "white",
          "plot_bgcolor": "#E5ECF6",
          "polar": {
           "angularaxis": {
            "gridcolor": "white",
            "linecolor": "white",
            "ticks": ""
           },
           "bgcolor": "#E5ECF6",
           "radialaxis": {
            "gridcolor": "white",
            "linecolor": "white",
            "ticks": ""
           }
          },
          "scene": {
           "xaxis": {
            "backgroundcolor": "#E5ECF6",
            "gridcolor": "white",
            "gridwidth": 2,
            "linecolor": "white",
            "showbackground": true,
            "ticks": "",
            "zerolinecolor": "white"
           },
           "yaxis": {
            "backgroundcolor": "#E5ECF6",
            "gridcolor": "white",
            "gridwidth": 2,
            "linecolor": "white",
            "showbackground": true,
            "ticks": "",
            "zerolinecolor": "white"
           },
           "zaxis": {
            "backgroundcolor": "#E5ECF6",
            "gridcolor": "white",
            "gridwidth": 2,
            "linecolor": "white",
            "showbackground": true,
            "ticks": "",
            "zerolinecolor": "white"
           }
          },
          "shapedefaults": {
           "line": {
            "color": "#2a3f5f"
           }
          },
          "ternary": {
           "aaxis": {
            "gridcolor": "white",
            "linecolor": "white",
            "ticks": ""
           },
           "baxis": {
            "gridcolor": "white",
            "linecolor": "white",
            "ticks": ""
           },
           "bgcolor": "#E5ECF6",
           "caxis": {
            "gridcolor": "white",
            "linecolor": "white",
            "ticks": ""
           }
          },
          "title": {
           "x": 0.05
          },
          "xaxis": {
           "automargin": true,
           "gridcolor": "white",
           "linecolor": "white",
           "ticks": "",
           "title": {
            "standoff": 15
           },
           "zerolinecolor": "white",
           "zerolinewidth": 2
          },
          "yaxis": {
           "automargin": true,
           "gridcolor": "white",
           "linecolor": "white",
           "ticks": "",
           "title": {
            "standoff": 15
           },
           "zerolinecolor": "white",
           "zerolinewidth": 2
          }
         }
        },
        "title": {
         "text": "Class Distribution"
        },
        "width": 800,
        "xaxis": {
         "title": {
          "text": "Attack Name"
         }
        },
        "yaxis": {
         "title": {
          "text": "Number of attacks"
         }
        }
       }
      },
      "text/html": [
       "<div>                            <div id=\"023e35d7-d622-4da7-910b-4db63142813e\" class=\"plotly-graph-div\" style=\"height:600px; width:800px;\"></div>            <script type=\"text/javascript\">                require([\"plotly\"], function(Plotly) {                    window.PLOTLYENV=window.PLOTLYENV || {};                                    if (document.getElementById(\"023e35d7-d622-4da7-910b-4db63142813e\")) {                    Plotly.newPlot(                        \"023e35d7-d622-4da7-910b-4db63142813e\",                        [{\"name\":\"Benign\",\"orientation\":\"v\",\"text\":[667626.0],\"textposition\":\"outside\",\"x\":[\"Benign\"],\"y\":[667626],\"type\":\"bar\"},{\"name\":\"FTP-BruteForce\",\"orientation\":\"v\",\"text\":[193360.0],\"textposition\":\"outside\",\"x\":[\"FTP-BruteForce\"],\"y\":[193360],\"type\":\"bar\"},{\"name\":\"SSH-Bruteforce\",\"orientation\":\"v\",\"text\":[187589.0],\"textposition\":\"outside\",\"x\":[\"SSH-Bruteforce\"],\"y\":[187589],\"type\":\"bar\"}],                        {\"height\":600,\"template\":{\"data\":{\"barpolar\":[{\"marker\":{\"line\":{\"color\":\"#E5ECF6\",\"width\":0.5},\"pattern\":{\"fillmode\":\"overlay\",\"size\":10,\"solidity\":0.2}},\"type\":\"barpolar\"}],\"bar\":[{\"error_x\":{\"color\":\"#2a3f5f\"},\"error_y\":{\"color\":\"#2a3f5f\"},\"marker\":{\"line\":{\"color\":\"#E5ECF6\",\"width\":0.5},\"pattern\":{\"fillmode\":\"overlay\",\"size\":10,\"solidity\":0.2}},\"type\":\"bar\"}],\"carpet\":[{\"aaxis\":{\"endlinecolor\":\"#2a3f5f\",\"gridcolor\":\"white\",\"linecolor\":\"white\",\"minorgridcolor\":\"white\",\"startlinecolor\":\"#2a3f5f\"},\"baxis\":{\"endlinecolor\":\"#2a3f5f\",\"gridcolor\":\"white\",\"linecolor\":\"white\",\"minorgridcolor\":\"white\",\"startlinecolor\":\"#2a3f5f\"},\"type\":\"carpet\"}],\"choropleth\":[{\"colorbar\":{\"outlinewidth\":0,\"ticks\":\"\"},\"type\":\"choropleth\"}],\"contourcarpet\":[{\"colorbar\":{\"outlinewidth\":0,\"ticks\":\"\"},\"type\":\"contourcarpet\"}],\"contour\":[{\"colorbar\":{\"outlinewidth\":0,\"ticks\":\"\"},\"colorscale\":[[0.0,\"#0d0887\"],[0.1111111111111111,\"#46039f\"],[0.2222222222222222,\"#7201a8\"],[0.3333333333333333,\"#9c179e\"],[0.4444444444444444,\"#bd3786\"],[0.5555555555555556,\"#d8576b\"],[0.6666666666666666,\"#ed7953\"],[0.7777777777777778,\"#fb9f3a\"],[0.8888888888888888,\"#fdca26\"],[1.0,\"#f0f921\"]],\"type\":\"contour\"}],\"heatmapgl\":[{\"colorbar\":{\"outlinewidth\":0,\"ticks\":\"\"},\"colorscale\":[[0.0,\"#0d0887\"],[0.1111111111111111,\"#46039f\"],[0.2222222222222222,\"#7201a8\"],[0.3333333333333333,\"#9c179e\"],[0.4444444444444444,\"#bd3786\"],[0.5555555555555556,\"#d8576b\"],[0.6666666666666666,\"#ed7953\"],[0.7777777777777778,\"#fb9f3a\"],[0.8888888888888888,\"#fdca26\"],[1.0,\"#f0f921\"]],\"type\":\"heatmapgl\"}],\"heatmap\":[{\"colorbar\":{\"outlinewidth\":0,\"ticks\":\"\"},\"colorscale\":[[0.0,\"#0d0887\"],[0.1111111111111111,\"#46039f\"],[0.2222222222222222,\"#7201a8\"],[0.3333333333333333,\"#9c179e\"],[0.4444444444444444,\"#bd3786\"],[0.5555555555555556,\"#d8576b\"],[0.6666666666666666,\"#ed7953\"],[0.7777777777777778,\"#fb9f3a\"],[0.8888888888888888,\"#fdca26\"],[1.0,\"#f0f921\"]],\"type\":\"heatmap\"}],\"histogram2dcontour\":[{\"colorbar\":{\"outlinewidth\":0,\"ticks\":\"\"},\"colorscale\":[[0.0,\"#0d0887\"],[0.1111111111111111,\"#46039f\"],[0.2222222222222222,\"#7201a8\"],[0.3333333333333333,\"#9c179e\"],[0.4444444444444444,\"#bd3786\"],[0.5555555555555556,\"#d8576b\"],[0.6666666666666666,\"#ed7953\"],[0.7777777777777778,\"#fb9f3a\"],[0.8888888888888888,\"#fdca26\"],[1.0,\"#f0f921\"]],\"type\":\"histogram2dcontour\"}],\"histogram2d\":[{\"colorbar\":{\"outlinewidth\":0,\"ticks\":\"\"},\"colorscale\":[[0.0,\"#0d0887\"],[0.1111111111111111,\"#46039f\"],[0.2222222222222222,\"#7201a8\"],[0.3333333333333333,\"#9c179e\"],[0.4444444444444444,\"#bd3786\"],[0.5555555555555556,\"#d8576b\"],[0.6666666666666666,\"#ed7953\"],[0.7777777777777778,\"#fb9f3a\"],[0.8888888888888888,\"#fdca26\"],[1.0,\"#f0f921\"]],\"type\":\"histogram2d\"}],\"histogram\":[{\"marker\":{\"pattern\":{\"fillmode\":\"overlay\",\"size\":10,\"solidity\":0.2}},\"type\":\"histogram\"}],\"mesh3d\":[{\"colorbar\":{\"outlinewidth\":0,\"ticks\":\"\"},\"type\":\"mesh3d\"}],\"parcoords\":[{\"line\":{\"colorbar\":{\"outlinewidth\":0,\"ticks\":\"\"}},\"type\":\"parcoords\"}],\"pie\":[{\"automargin\":true,\"type\":\"pie\"}],\"scatter3d\":[{\"line\":{\"colorbar\":{\"outlinewidth\":0,\"ticks\":\"\"}},\"marker\":{\"colorbar\":{\"outlinewidth\":0,\"ticks\":\"\"}},\"type\":\"scatter3d\"}],\"scattercarpet\":[{\"marker\":{\"colorbar\":{\"outlinewidth\":0,\"ticks\":\"\"}},\"type\":\"scattercarpet\"}],\"scattergeo\":[{\"marker\":{\"colorbar\":{\"outlinewidth\":0,\"ticks\":\"\"}},\"type\":\"scattergeo\"}],\"scattergl\":[{\"marker\":{\"colorbar\":{\"outlinewidth\":0,\"ticks\":\"\"}},\"type\":\"scattergl\"}],\"scattermapbox\":[{\"marker\":{\"colorbar\":{\"outlinewidth\":0,\"ticks\":\"\"}},\"type\":\"scattermapbox\"}],\"scatterpolargl\":[{\"marker\":{\"colorbar\":{\"outlinewidth\":0,\"ticks\":\"\"}},\"type\":\"scatterpolargl\"}],\"scatterpolar\":[{\"marker\":{\"colorbar\":{\"outlinewidth\":0,\"ticks\":\"\"}},\"type\":\"scatterpolar\"}],\"scatter\":[{\"fillpattern\":{\"fillmode\":\"overlay\",\"size\":10,\"solidity\":0.2},\"type\":\"scatter\"}],\"scatterternary\":[{\"marker\":{\"colorbar\":{\"outlinewidth\":0,\"ticks\":\"\"}},\"type\":\"scatterternary\"}],\"surface\":[{\"colorbar\":{\"outlinewidth\":0,\"ticks\":\"\"},\"colorscale\":[[0.0,\"#0d0887\"],[0.1111111111111111,\"#46039f\"],[0.2222222222222222,\"#7201a8\"],[0.3333333333333333,\"#9c179e\"],[0.4444444444444444,\"#bd3786\"],[0.5555555555555556,\"#d8576b\"],[0.6666666666666666,\"#ed7953\"],[0.7777777777777778,\"#fb9f3a\"],[0.8888888888888888,\"#fdca26\"],[1.0,\"#f0f921\"]],\"type\":\"surface\"}],\"table\":[{\"cells\":{\"fill\":{\"color\":\"#EBF0F8\"},\"line\":{\"color\":\"white\"}},\"header\":{\"fill\":{\"color\":\"#C8D4E3\"},\"line\":{\"color\":\"white\"}},\"type\":\"table\"}]},\"layout\":{\"annotationdefaults\":{\"arrowcolor\":\"#2a3f5f\",\"arrowhead\":0,\"arrowwidth\":1},\"autotypenumbers\":\"strict\",\"coloraxis\":{\"colorbar\":{\"outlinewidth\":0,\"ticks\":\"\"}},\"colorscale\":{\"diverging\":[[0,\"#8e0152\"],[0.1,\"#c51b7d\"],[0.2,\"#de77ae\"],[0.3,\"#f1b6da\"],[0.4,\"#fde0ef\"],[0.5,\"#f7f7f7\"],[0.6,\"#e6f5d0\"],[0.7,\"#b8e186\"],[0.8,\"#7fbc41\"],[0.9,\"#4d9221\"],[1,\"#276419\"]],\"sequential\":[[0.0,\"#0d0887\"],[0.1111111111111111,\"#46039f\"],[0.2222222222222222,\"#7201a8\"],[0.3333333333333333,\"#9c179e\"],[0.4444444444444444,\"#bd3786\"],[0.5555555555555556,\"#d8576b\"],[0.6666666666666666,\"#ed7953\"],[0.7777777777777778,\"#fb9f3a\"],[0.8888888888888888,\"#fdca26\"],[1.0,\"#f0f921\"]],\"sequentialminus\":[[0.0,\"#0d0887\"],[0.1111111111111111,\"#46039f\"],[0.2222222222222222,\"#7201a8\"],[0.3333333333333333,\"#9c179e\"],[0.4444444444444444,\"#bd3786\"],[0.5555555555555556,\"#d8576b\"],[0.6666666666666666,\"#ed7953\"],[0.7777777777777778,\"#fb9f3a\"],[0.8888888888888888,\"#fdca26\"],[1.0,\"#f0f921\"]]},\"colorway\":[\"#636efa\",\"#EF553B\",\"#00cc96\",\"#ab63fa\",\"#FFA15A\",\"#19d3f3\",\"#FF6692\",\"#B6E880\",\"#FF97FF\",\"#FECB52\"],\"font\":{\"color\":\"#2a3f5f\"},\"geo\":{\"bgcolor\":\"white\",\"lakecolor\":\"white\",\"landcolor\":\"#E5ECF6\",\"showlakes\":true,\"showland\":true,\"subunitcolor\":\"white\"},\"hoverlabel\":{\"align\":\"left\"},\"hovermode\":\"closest\",\"mapbox\":{\"style\":\"light\"},\"paper_bgcolor\":\"white\",\"plot_bgcolor\":\"#E5ECF6\",\"polar\":{\"angularaxis\":{\"gridcolor\":\"white\",\"linecolor\":\"white\",\"ticks\":\"\"},\"bgcolor\":\"#E5ECF6\",\"radialaxis\":{\"gridcolor\":\"white\",\"linecolor\":\"white\",\"ticks\":\"\"}},\"scene\":{\"xaxis\":{\"backgroundcolor\":\"#E5ECF6\",\"gridcolor\":\"white\",\"gridwidth\":2,\"linecolor\":\"white\",\"showbackground\":true,\"ticks\":\"\",\"zerolinecolor\":\"white\"},\"yaxis\":{\"backgroundcolor\":\"#E5ECF6\",\"gridcolor\":\"white\",\"gridwidth\":2,\"linecolor\":\"white\",\"showbackground\":true,\"ticks\":\"\",\"zerolinecolor\":\"white\"},\"zaxis\":{\"backgroundcolor\":\"#E5ECF6\",\"gridcolor\":\"white\",\"gridwidth\":2,\"linecolor\":\"white\",\"showbackground\":true,\"ticks\":\"\",\"zerolinecolor\":\"white\"}},\"shapedefaults\":{\"line\":{\"color\":\"#2a3f5f\"}},\"ternary\":{\"aaxis\":{\"gridcolor\":\"white\",\"linecolor\":\"white\",\"ticks\":\"\"},\"baxis\":{\"gridcolor\":\"white\",\"linecolor\":\"white\",\"ticks\":\"\"},\"bgcolor\":\"#E5ECF6\",\"caxis\":{\"gridcolor\":\"white\",\"linecolor\":\"white\",\"ticks\":\"\"}},\"title\":{\"x\":0.05},\"xaxis\":{\"automargin\":true,\"gridcolor\":\"white\",\"linecolor\":\"white\",\"ticks\":\"\",\"title\":{\"standoff\":15},\"zerolinecolor\":\"white\",\"zerolinewidth\":2},\"yaxis\":{\"automargin\":true,\"gridcolor\":\"white\",\"linecolor\":\"white\",\"ticks\":\"\",\"title\":{\"standoff\":15},\"zerolinecolor\":\"white\",\"zerolinewidth\":2}}},\"title\":{\"text\":\"Class Distribution\"},\"width\":800,\"xaxis\":{\"title\":{\"text\":\"Attack Name\"}},\"yaxis\":{\"title\":{\"text\":\"Number of attacks\"}}},                        {\"responsive\": true}                    ).then(function(){\n",
       "                            \n",
       "var gd = document.getElementById('023e35d7-d622-4da7-910b-4db63142813e');\n",
       "var x = new MutationObserver(function (mutations, observer) {{\n",
       "        var display = window.getComputedStyle(gd).display;\n",
       "        if (!display || display === 'none') {{\n",
       "            console.log([gd, 'removed!']);\n",
       "            Plotly.purge(gd);\n",
       "            observer.disconnect();\n",
       "        }}\n",
       "}});\n",
       "\n",
       "// Listen for the removal of the full notebook cells\n",
       "var notebookContainer = gd.closest('#notebook-container');\n",
       "if (notebookContainer) {{\n",
       "    x.observe(notebookContainer, {childList: true});\n",
       "}}\n",
       "\n",
       "// Listen for the clearing of the current output cell\n",
       "var outputEl = gd.closest('.output');\n",
       "if (outputEl) {{\n",
       "    x.observe(outputEl, {childList: true});\n",
       "}}\n",
       "\n",
       "                        })                };                });            </script>        </div>"
      ]
     },
     "metadata": {},
     "output_type": "display_data"
    }
   ],
   "source": [
    "from sklearn.metrics import ConfusionMatrixDisplay\n",
    "from plotly.offline import init_notebook_mode, iplot, plot\n",
    "import plotly as py\n",
    "import plotly.express as px\n",
    "init_notebook_mode(connected=True)\n",
    "import plotly.graph_objs as go\n",
    "\n",
    "fig = go.Figure(data=[\n",
    "    go.Bar(name='Benign', \n",
    "           y=df[\"Label\"].value_counts().values[0:1],\n",
    "           x=['Benign'],\n",
    "           text = df[\"Label\"].value_counts()[0:1],\n",
    "           orientation='v',\n",
    "           textposition='outside',),\n",
    "    go.Bar(name='FTP-BruteForce', \n",
    "           y=df[\"Label\"].value_counts().values[1:2],\n",
    "           x=['FTP-BruteForce'],\n",
    "           text = df[\"Label\"].value_counts()[1:2],\n",
    "           orientation='v',\n",
    "           textposition='outside',),\n",
    "    go.Bar(name='SSH-Bruteforce', \n",
    "           y=df[\"Label\"].value_counts().values[2:],\n",
    "           x=['SSH-Bruteforce'],\n",
    "           text = df[\"Label\"].value_counts()[2:],\n",
    "           orientation='v',\n",
    "           textposition='outside',)\n",
    "])\n",
    "# Change the bar mode\n",
    "fig.update_layout(\n",
    "                  width=800,\n",
    "                  height=600,\n",
    "                  title=f'Class Distribution',\n",
    "                  yaxis_title='Number of attacks',\n",
    "                  xaxis_title='Attack Name',)\n",
    "iplot(fig)"
   ]
  },
  {
   "cell_type": "markdown",
   "metadata": {},
   "source": [
    "As expected, most of the traffic is benign.\n",
    "\n",
    "Since our goal is binary classification (\"attack\" vs \"not attack\"), we can group FTP and SSH brute force attacks under one name instead of keeping them separate. Let's name them \"Malicious\"."
   ]
  },
  {
   "cell_type": "code",
   "execution_count": 13,
   "metadata": {
    "execution": {
     "iopub.execute_input": "2025-03-06T14:53:36.764583Z",
     "iopub.status.busy": "2025-03-06T14:53:36.763735Z",
     "iopub.status.idle": "2025-03-06T14:53:36.890822Z",
     "shell.execute_reply": "2025-03-06T14:53:36.889655Z",
     "shell.execute_reply.started": "2025-03-06T14:53:36.764545Z"
    },
    "trusted": true
   },
   "outputs": [
    {
     "name": "stderr",
     "output_type": "stream",
     "text": [
      "C:\\Users\\MY PC\\AppData\\Local\\Temp\\ipykernel_2864\\2240561587.py:1: SettingWithCopyWarning:\n",
      "\n",
      "\n",
      "A value is trying to be set on a copy of a slice from a DataFrame\n",
      "\n",
      "See the caveats in the documentation: https://pandas.pydata.org/pandas-docs/stable/user_guide/indexing.html#returning-a-view-versus-a-copy\n",
      "\n"
     ]
    }
   ],
   "source": [
    "df.replace(to_replace=[\"FTP-BruteForce\", \"SSH-Bruteforce\"], value=\"Malicious\", inplace=True)"
   ]
  },
  {
   "cell_type": "code",
   "execution_count": 14,
   "metadata": {
    "execution": {
     "iopub.execute_input": "2025-03-06T14:53:38.051277Z",
     "iopub.status.busy": "2025-03-06T14:53:38.050828Z",
     "iopub.status.idle": "2025-03-06T14:53:38.129406Z",
     "shell.execute_reply": "2025-03-06T14:53:38.128209Z",
     "shell.execute_reply.started": "2025-03-06T14:53:38.051245Z"
    },
    "trusted": true
   },
   "outputs": [
    {
     "data": {
      "text/plain": [
       "Benign       667626\n",
       "Malicious    380949\n",
       "Name: Label, dtype: int64"
      ]
     },
     "execution_count": 14,
     "metadata": {},
     "output_type": "execute_result"
    }
   ],
   "source": [
    "df_dataset[\"Label\"].value_counts()"
   ]
  },
  {
   "cell_type": "code",
   "execution_count": 15,
   "metadata": {
    "execution": {
     "iopub.execute_input": "2025-03-06T14:53:39.050257Z",
     "iopub.status.busy": "2025-03-06T14:53:39.049800Z",
     "iopub.status.idle": "2025-03-06T14:53:39.357006Z",
     "shell.execute_reply": "2025-03-06T14:53:39.355771Z",
     "shell.execute_reply.started": "2025-03-06T14:53:39.050225Z"
    },
    "trusted": true
   },
   "outputs": [
    {
     "data": {
      "application/vnd.plotly.v1+json": {
       "config": {
        "linkText": "Export to plot.ly",
        "plotlyServerURL": "https://plot.ly",
        "showLink": false
       },
       "data": [
        {
         "name": "Benign",
         "orientation": "v",
         "text": [
          667626
         ],
         "textposition": "outside",
         "type": "bar",
         "x": [
          "Benign"
         ],
         "y": [
          667626
         ]
        },
        {
         "name": "Malicious",
         "orientation": "v",
         "text": [
          380949
         ],
         "textposition": "outside",
         "type": "bar",
         "x": [
          "Malicious"
         ],
         "y": [
          380949
         ]
        }
       ],
       "layout": {
        "height": 600,
        "template": {
         "data": {
          "bar": [
           {
            "error_x": {
             "color": "#2a3f5f"
            },
            "error_y": {
             "color": "#2a3f5f"
            },
            "marker": {
             "line": {
              "color": "#E5ECF6",
              "width": 0.5
             },
             "pattern": {
              "fillmode": "overlay",
              "size": 10,
              "solidity": 0.2
             }
            },
            "type": "bar"
           }
          ],
          "barpolar": [
           {
            "marker": {
             "line": {
              "color": "#E5ECF6",
              "width": 0.5
             },
             "pattern": {
              "fillmode": "overlay",
              "size": 10,
              "solidity": 0.2
             }
            },
            "type": "barpolar"
           }
          ],
          "carpet": [
           {
            "aaxis": {
             "endlinecolor": "#2a3f5f",
             "gridcolor": "white",
             "linecolor": "white",
             "minorgridcolor": "white",
             "startlinecolor": "#2a3f5f"
            },
            "baxis": {
             "endlinecolor": "#2a3f5f",
             "gridcolor": "white",
             "linecolor": "white",
             "minorgridcolor": "white",
             "startlinecolor": "#2a3f5f"
            },
            "type": "carpet"
           }
          ],
          "choropleth": [
           {
            "colorbar": {
             "outlinewidth": 0,
             "ticks": ""
            },
            "type": "choropleth"
           }
          ],
          "contour": [
           {
            "colorbar": {
             "outlinewidth": 0,
             "ticks": ""
            },
            "colorscale": [
             [
              0,
              "#0d0887"
             ],
             [
              0.1111111111111111,
              "#46039f"
             ],
             [
              0.2222222222222222,
              "#7201a8"
             ],
             [
              0.3333333333333333,
              "#9c179e"
             ],
             [
              0.4444444444444444,
              "#bd3786"
             ],
             [
              0.5555555555555556,
              "#d8576b"
             ],
             [
              0.6666666666666666,
              "#ed7953"
             ],
             [
              0.7777777777777778,
              "#fb9f3a"
             ],
             [
              0.8888888888888888,
              "#fdca26"
             ],
             [
              1,
              "#f0f921"
             ]
            ],
            "type": "contour"
           }
          ],
          "contourcarpet": [
           {
            "colorbar": {
             "outlinewidth": 0,
             "ticks": ""
            },
            "type": "contourcarpet"
           }
          ],
          "heatmap": [
           {
            "colorbar": {
             "outlinewidth": 0,
             "ticks": ""
            },
            "colorscale": [
             [
              0,
              "#0d0887"
             ],
             [
              0.1111111111111111,
              "#46039f"
             ],
             [
              0.2222222222222222,
              "#7201a8"
             ],
             [
              0.3333333333333333,
              "#9c179e"
             ],
             [
              0.4444444444444444,
              "#bd3786"
             ],
             [
              0.5555555555555556,
              "#d8576b"
             ],
             [
              0.6666666666666666,
              "#ed7953"
             ],
             [
              0.7777777777777778,
              "#fb9f3a"
             ],
             [
              0.8888888888888888,
              "#fdca26"
             ],
             [
              1,
              "#f0f921"
             ]
            ],
            "type": "heatmap"
           }
          ],
          "heatmapgl": [
           {
            "colorbar": {
             "outlinewidth": 0,
             "ticks": ""
            },
            "colorscale": [
             [
              0,
              "#0d0887"
             ],
             [
              0.1111111111111111,
              "#46039f"
             ],
             [
              0.2222222222222222,
              "#7201a8"
             ],
             [
              0.3333333333333333,
              "#9c179e"
             ],
             [
              0.4444444444444444,
              "#bd3786"
             ],
             [
              0.5555555555555556,
              "#d8576b"
             ],
             [
              0.6666666666666666,
              "#ed7953"
             ],
             [
              0.7777777777777778,
              "#fb9f3a"
             ],
             [
              0.8888888888888888,
              "#fdca26"
             ],
             [
              1,
              "#f0f921"
             ]
            ],
            "type": "heatmapgl"
           }
          ],
          "histogram": [
           {
            "marker": {
             "pattern": {
              "fillmode": "overlay",
              "size": 10,
              "solidity": 0.2
             }
            },
            "type": "histogram"
           }
          ],
          "histogram2d": [
           {
            "colorbar": {
             "outlinewidth": 0,
             "ticks": ""
            },
            "colorscale": [
             [
              0,
              "#0d0887"
             ],
             [
              0.1111111111111111,
              "#46039f"
             ],
             [
              0.2222222222222222,
              "#7201a8"
             ],
             [
              0.3333333333333333,
              "#9c179e"
             ],
             [
              0.4444444444444444,
              "#bd3786"
             ],
             [
              0.5555555555555556,
              "#d8576b"
             ],
             [
              0.6666666666666666,
              "#ed7953"
             ],
             [
              0.7777777777777778,
              "#fb9f3a"
             ],
             [
              0.8888888888888888,
              "#fdca26"
             ],
             [
              1,
              "#f0f921"
             ]
            ],
            "type": "histogram2d"
           }
          ],
          "histogram2dcontour": [
           {
            "colorbar": {
             "outlinewidth": 0,
             "ticks": ""
            },
            "colorscale": [
             [
              0,
              "#0d0887"
             ],
             [
              0.1111111111111111,
              "#46039f"
             ],
             [
              0.2222222222222222,
              "#7201a8"
             ],
             [
              0.3333333333333333,
              "#9c179e"
             ],
             [
              0.4444444444444444,
              "#bd3786"
             ],
             [
              0.5555555555555556,
              "#d8576b"
             ],
             [
              0.6666666666666666,
              "#ed7953"
             ],
             [
              0.7777777777777778,
              "#fb9f3a"
             ],
             [
              0.8888888888888888,
              "#fdca26"
             ],
             [
              1,
              "#f0f921"
             ]
            ],
            "type": "histogram2dcontour"
           }
          ],
          "mesh3d": [
           {
            "colorbar": {
             "outlinewidth": 0,
             "ticks": ""
            },
            "type": "mesh3d"
           }
          ],
          "parcoords": [
           {
            "line": {
             "colorbar": {
              "outlinewidth": 0,
              "ticks": ""
             }
            },
            "type": "parcoords"
           }
          ],
          "pie": [
           {
            "automargin": true,
            "type": "pie"
           }
          ],
          "scatter": [
           {
            "fillpattern": {
             "fillmode": "overlay",
             "size": 10,
             "solidity": 0.2
            },
            "type": "scatter"
           }
          ],
          "scatter3d": [
           {
            "line": {
             "colorbar": {
              "outlinewidth": 0,
              "ticks": ""
             }
            },
            "marker": {
             "colorbar": {
              "outlinewidth": 0,
              "ticks": ""
             }
            },
            "type": "scatter3d"
           }
          ],
          "scattercarpet": [
           {
            "marker": {
             "colorbar": {
              "outlinewidth": 0,
              "ticks": ""
             }
            },
            "type": "scattercarpet"
           }
          ],
          "scattergeo": [
           {
            "marker": {
             "colorbar": {
              "outlinewidth": 0,
              "ticks": ""
             }
            },
            "type": "scattergeo"
           }
          ],
          "scattergl": [
           {
            "marker": {
             "colorbar": {
              "outlinewidth": 0,
              "ticks": ""
             }
            },
            "type": "scattergl"
           }
          ],
          "scattermapbox": [
           {
            "marker": {
             "colorbar": {
              "outlinewidth": 0,
              "ticks": ""
             }
            },
            "type": "scattermapbox"
           }
          ],
          "scatterpolar": [
           {
            "marker": {
             "colorbar": {
              "outlinewidth": 0,
              "ticks": ""
             }
            },
            "type": "scatterpolar"
           }
          ],
          "scatterpolargl": [
           {
            "marker": {
             "colorbar": {
              "outlinewidth": 0,
              "ticks": ""
             }
            },
            "type": "scatterpolargl"
           }
          ],
          "scatterternary": [
           {
            "marker": {
             "colorbar": {
              "outlinewidth": 0,
              "ticks": ""
             }
            },
            "type": "scatterternary"
           }
          ],
          "surface": [
           {
            "colorbar": {
             "outlinewidth": 0,
             "ticks": ""
            },
            "colorscale": [
             [
              0,
              "#0d0887"
             ],
             [
              0.1111111111111111,
              "#46039f"
             ],
             [
              0.2222222222222222,
              "#7201a8"
             ],
             [
              0.3333333333333333,
              "#9c179e"
             ],
             [
              0.4444444444444444,
              "#bd3786"
             ],
             [
              0.5555555555555556,
              "#d8576b"
             ],
             [
              0.6666666666666666,
              "#ed7953"
             ],
             [
              0.7777777777777778,
              "#fb9f3a"
             ],
             [
              0.8888888888888888,
              "#fdca26"
             ],
             [
              1,
              "#f0f921"
             ]
            ],
            "type": "surface"
           }
          ],
          "table": [
           {
            "cells": {
             "fill": {
              "color": "#EBF0F8"
             },
             "line": {
              "color": "white"
             }
            },
            "header": {
             "fill": {
              "color": "#C8D4E3"
             },
             "line": {
              "color": "white"
             }
            },
            "type": "table"
           }
          ]
         },
         "layout": {
          "annotationdefaults": {
           "arrowcolor": "#2a3f5f",
           "arrowhead": 0,
           "arrowwidth": 1
          },
          "autotypenumbers": "strict",
          "coloraxis": {
           "colorbar": {
            "outlinewidth": 0,
            "ticks": ""
           }
          },
          "colorscale": {
           "diverging": [
            [
             0,
             "#8e0152"
            ],
            [
             0.1,
             "#c51b7d"
            ],
            [
             0.2,
             "#de77ae"
            ],
            [
             0.3,
             "#f1b6da"
            ],
            [
             0.4,
             "#fde0ef"
            ],
            [
             0.5,
             "#f7f7f7"
            ],
            [
             0.6,
             "#e6f5d0"
            ],
            [
             0.7,
             "#b8e186"
            ],
            [
             0.8,
             "#7fbc41"
            ],
            [
             0.9,
             "#4d9221"
            ],
            [
             1,
             "#276419"
            ]
           ],
           "sequential": [
            [
             0,
             "#0d0887"
            ],
            [
             0.1111111111111111,
             "#46039f"
            ],
            [
             0.2222222222222222,
             "#7201a8"
            ],
            [
             0.3333333333333333,
             "#9c179e"
            ],
            [
             0.4444444444444444,
             "#bd3786"
            ],
            [
             0.5555555555555556,
             "#d8576b"
            ],
            [
             0.6666666666666666,
             "#ed7953"
            ],
            [
             0.7777777777777778,
             "#fb9f3a"
            ],
            [
             0.8888888888888888,
             "#fdca26"
            ],
            [
             1,
             "#f0f921"
            ]
           ],
           "sequentialminus": [
            [
             0,
             "#0d0887"
            ],
            [
             0.1111111111111111,
             "#46039f"
            ],
            [
             0.2222222222222222,
             "#7201a8"
            ],
            [
             0.3333333333333333,
             "#9c179e"
            ],
            [
             0.4444444444444444,
             "#bd3786"
            ],
            [
             0.5555555555555556,
             "#d8576b"
            ],
            [
             0.6666666666666666,
             "#ed7953"
            ],
            [
             0.7777777777777778,
             "#fb9f3a"
            ],
            [
             0.8888888888888888,
             "#fdca26"
            ],
            [
             1,
             "#f0f921"
            ]
           ]
          },
          "colorway": [
           "#636efa",
           "#EF553B",
           "#00cc96",
           "#ab63fa",
           "#FFA15A",
           "#19d3f3",
           "#FF6692",
           "#B6E880",
           "#FF97FF",
           "#FECB52"
          ],
          "font": {
           "color": "#2a3f5f"
          },
          "geo": {
           "bgcolor": "white",
           "lakecolor": "white",
           "landcolor": "#E5ECF6",
           "showlakes": true,
           "showland": true,
           "subunitcolor": "white"
          },
          "hoverlabel": {
           "align": "left"
          },
          "hovermode": "closest",
          "mapbox": {
           "style": "light"
          },
          "paper_bgcolor": "white",
          "plot_bgcolor": "#E5ECF6",
          "polar": {
           "angularaxis": {
            "gridcolor": "white",
            "linecolor": "white",
            "ticks": ""
           },
           "bgcolor": "#E5ECF6",
           "radialaxis": {
            "gridcolor": "white",
            "linecolor": "white",
            "ticks": ""
           }
          },
          "scene": {
           "xaxis": {
            "backgroundcolor": "#E5ECF6",
            "gridcolor": "white",
            "gridwidth": 2,
            "linecolor": "white",
            "showbackground": true,
            "ticks": "",
            "zerolinecolor": "white"
           },
           "yaxis": {
            "backgroundcolor": "#E5ECF6",
            "gridcolor": "white",
            "gridwidth": 2,
            "linecolor": "white",
            "showbackground": true,
            "ticks": "",
            "zerolinecolor": "white"
           },
           "zaxis": {
            "backgroundcolor": "#E5ECF6",
            "gridcolor": "white",
            "gridwidth": 2,
            "linecolor": "white",
            "showbackground": true,
            "ticks": "",
            "zerolinecolor": "white"
           }
          },
          "shapedefaults": {
           "line": {
            "color": "#2a3f5f"
           }
          },
          "ternary": {
           "aaxis": {
            "gridcolor": "white",
            "linecolor": "white",
            "ticks": ""
           },
           "baxis": {
            "gridcolor": "white",
            "linecolor": "white",
            "ticks": ""
           },
           "bgcolor": "#E5ECF6",
           "caxis": {
            "gridcolor": "white",
            "linecolor": "white",
            "ticks": ""
           }
          },
          "title": {
           "x": 0.05
          },
          "xaxis": {
           "automargin": true,
           "gridcolor": "white",
           "linecolor": "white",
           "ticks": "",
           "title": {
            "standoff": 15
           },
           "zerolinecolor": "white",
           "zerolinewidth": 2
          },
          "yaxis": {
           "automargin": true,
           "gridcolor": "white",
           "linecolor": "white",
           "ticks": "",
           "title": {
            "standoff": 15
           },
           "zerolinecolor": "white",
           "zerolinewidth": 2
          }
         }
        },
        "title": {
         "text": "Class Distribution"
        },
        "width": 800,
        "xaxis": {
         "title": {
          "text": "Attack Name"
         }
        },
        "yaxis": {
         "title": {
          "text": "Number of attacks"
         }
        }
       }
      },
      "text/html": [
       "<div>                            <div id=\"773c0401-e333-4aec-a5e1-99d198db7272\" class=\"plotly-graph-div\" style=\"height:600px; width:800px;\"></div>            <script type=\"text/javascript\">                require([\"plotly\"], function(Plotly) {                    window.PLOTLYENV=window.PLOTLYENV || {};                                    if (document.getElementById(\"773c0401-e333-4aec-a5e1-99d198db7272\")) {                    Plotly.newPlot(                        \"773c0401-e333-4aec-a5e1-99d198db7272\",                        [{\"name\":\"Benign\",\"orientation\":\"v\",\"text\":[667626.0],\"textposition\":\"outside\",\"x\":[\"Benign\"],\"y\":[667626],\"type\":\"bar\"},{\"name\":\"Malicious\",\"orientation\":\"v\",\"text\":[380949.0],\"textposition\":\"outside\",\"x\":[\"Malicious\"],\"y\":[380949],\"type\":\"bar\"}],                        {\"height\":600,\"template\":{\"data\":{\"barpolar\":[{\"marker\":{\"line\":{\"color\":\"#E5ECF6\",\"width\":0.5},\"pattern\":{\"fillmode\":\"overlay\",\"size\":10,\"solidity\":0.2}},\"type\":\"barpolar\"}],\"bar\":[{\"error_x\":{\"color\":\"#2a3f5f\"},\"error_y\":{\"color\":\"#2a3f5f\"},\"marker\":{\"line\":{\"color\":\"#E5ECF6\",\"width\":0.5},\"pattern\":{\"fillmode\":\"overlay\",\"size\":10,\"solidity\":0.2}},\"type\":\"bar\"}],\"carpet\":[{\"aaxis\":{\"endlinecolor\":\"#2a3f5f\",\"gridcolor\":\"white\",\"linecolor\":\"white\",\"minorgridcolor\":\"white\",\"startlinecolor\":\"#2a3f5f\"},\"baxis\":{\"endlinecolor\":\"#2a3f5f\",\"gridcolor\":\"white\",\"linecolor\":\"white\",\"minorgridcolor\":\"white\",\"startlinecolor\":\"#2a3f5f\"},\"type\":\"carpet\"}],\"choropleth\":[{\"colorbar\":{\"outlinewidth\":0,\"ticks\":\"\"},\"type\":\"choropleth\"}],\"contourcarpet\":[{\"colorbar\":{\"outlinewidth\":0,\"ticks\":\"\"},\"type\":\"contourcarpet\"}],\"contour\":[{\"colorbar\":{\"outlinewidth\":0,\"ticks\":\"\"},\"colorscale\":[[0.0,\"#0d0887\"],[0.1111111111111111,\"#46039f\"],[0.2222222222222222,\"#7201a8\"],[0.3333333333333333,\"#9c179e\"],[0.4444444444444444,\"#bd3786\"],[0.5555555555555556,\"#d8576b\"],[0.6666666666666666,\"#ed7953\"],[0.7777777777777778,\"#fb9f3a\"],[0.8888888888888888,\"#fdca26\"],[1.0,\"#f0f921\"]],\"type\":\"contour\"}],\"heatmapgl\":[{\"colorbar\":{\"outlinewidth\":0,\"ticks\":\"\"},\"colorscale\":[[0.0,\"#0d0887\"],[0.1111111111111111,\"#46039f\"],[0.2222222222222222,\"#7201a8\"],[0.3333333333333333,\"#9c179e\"],[0.4444444444444444,\"#bd3786\"],[0.5555555555555556,\"#d8576b\"],[0.6666666666666666,\"#ed7953\"],[0.7777777777777778,\"#fb9f3a\"],[0.8888888888888888,\"#fdca26\"],[1.0,\"#f0f921\"]],\"type\":\"heatmapgl\"}],\"heatmap\":[{\"colorbar\":{\"outlinewidth\":0,\"ticks\":\"\"},\"colorscale\":[[0.0,\"#0d0887\"],[0.1111111111111111,\"#46039f\"],[0.2222222222222222,\"#7201a8\"],[0.3333333333333333,\"#9c179e\"],[0.4444444444444444,\"#bd3786\"],[0.5555555555555556,\"#d8576b\"],[0.6666666666666666,\"#ed7953\"],[0.7777777777777778,\"#fb9f3a\"],[0.8888888888888888,\"#fdca26\"],[1.0,\"#f0f921\"]],\"type\":\"heatmap\"}],\"histogram2dcontour\":[{\"colorbar\":{\"outlinewidth\":0,\"ticks\":\"\"},\"colorscale\":[[0.0,\"#0d0887\"],[0.1111111111111111,\"#46039f\"],[0.2222222222222222,\"#7201a8\"],[0.3333333333333333,\"#9c179e\"],[0.4444444444444444,\"#bd3786\"],[0.5555555555555556,\"#d8576b\"],[0.6666666666666666,\"#ed7953\"],[0.7777777777777778,\"#fb9f3a\"],[0.8888888888888888,\"#fdca26\"],[1.0,\"#f0f921\"]],\"type\":\"histogram2dcontour\"}],\"histogram2d\":[{\"colorbar\":{\"outlinewidth\":0,\"ticks\":\"\"},\"colorscale\":[[0.0,\"#0d0887\"],[0.1111111111111111,\"#46039f\"],[0.2222222222222222,\"#7201a8\"],[0.3333333333333333,\"#9c179e\"],[0.4444444444444444,\"#bd3786\"],[0.5555555555555556,\"#d8576b\"],[0.6666666666666666,\"#ed7953\"],[0.7777777777777778,\"#fb9f3a\"],[0.8888888888888888,\"#fdca26\"],[1.0,\"#f0f921\"]],\"type\":\"histogram2d\"}],\"histogram\":[{\"marker\":{\"pattern\":{\"fillmode\":\"overlay\",\"size\":10,\"solidity\":0.2}},\"type\":\"histogram\"}],\"mesh3d\":[{\"colorbar\":{\"outlinewidth\":0,\"ticks\":\"\"},\"type\":\"mesh3d\"}],\"parcoords\":[{\"line\":{\"colorbar\":{\"outlinewidth\":0,\"ticks\":\"\"}},\"type\":\"parcoords\"}],\"pie\":[{\"automargin\":true,\"type\":\"pie\"}],\"scatter3d\":[{\"line\":{\"colorbar\":{\"outlinewidth\":0,\"ticks\":\"\"}},\"marker\":{\"colorbar\":{\"outlinewidth\":0,\"ticks\":\"\"}},\"type\":\"scatter3d\"}],\"scattercarpet\":[{\"marker\":{\"colorbar\":{\"outlinewidth\":0,\"ticks\":\"\"}},\"type\":\"scattercarpet\"}],\"scattergeo\":[{\"marker\":{\"colorbar\":{\"outlinewidth\":0,\"ticks\":\"\"}},\"type\":\"scattergeo\"}],\"scattergl\":[{\"marker\":{\"colorbar\":{\"outlinewidth\":0,\"ticks\":\"\"}},\"type\":\"scattergl\"}],\"scattermapbox\":[{\"marker\":{\"colorbar\":{\"outlinewidth\":0,\"ticks\":\"\"}},\"type\":\"scattermapbox\"}],\"scatterpolargl\":[{\"marker\":{\"colorbar\":{\"outlinewidth\":0,\"ticks\":\"\"}},\"type\":\"scatterpolargl\"}],\"scatterpolar\":[{\"marker\":{\"colorbar\":{\"outlinewidth\":0,\"ticks\":\"\"}},\"type\":\"scatterpolar\"}],\"scatter\":[{\"fillpattern\":{\"fillmode\":\"overlay\",\"size\":10,\"solidity\":0.2},\"type\":\"scatter\"}],\"scatterternary\":[{\"marker\":{\"colorbar\":{\"outlinewidth\":0,\"ticks\":\"\"}},\"type\":\"scatterternary\"}],\"surface\":[{\"colorbar\":{\"outlinewidth\":0,\"ticks\":\"\"},\"colorscale\":[[0.0,\"#0d0887\"],[0.1111111111111111,\"#46039f\"],[0.2222222222222222,\"#7201a8\"],[0.3333333333333333,\"#9c179e\"],[0.4444444444444444,\"#bd3786\"],[0.5555555555555556,\"#d8576b\"],[0.6666666666666666,\"#ed7953\"],[0.7777777777777778,\"#fb9f3a\"],[0.8888888888888888,\"#fdca26\"],[1.0,\"#f0f921\"]],\"type\":\"surface\"}],\"table\":[{\"cells\":{\"fill\":{\"color\":\"#EBF0F8\"},\"line\":{\"color\":\"white\"}},\"header\":{\"fill\":{\"color\":\"#C8D4E3\"},\"line\":{\"color\":\"white\"}},\"type\":\"table\"}]},\"layout\":{\"annotationdefaults\":{\"arrowcolor\":\"#2a3f5f\",\"arrowhead\":0,\"arrowwidth\":1},\"autotypenumbers\":\"strict\",\"coloraxis\":{\"colorbar\":{\"outlinewidth\":0,\"ticks\":\"\"}},\"colorscale\":{\"diverging\":[[0,\"#8e0152\"],[0.1,\"#c51b7d\"],[0.2,\"#de77ae\"],[0.3,\"#f1b6da\"],[0.4,\"#fde0ef\"],[0.5,\"#f7f7f7\"],[0.6,\"#e6f5d0\"],[0.7,\"#b8e186\"],[0.8,\"#7fbc41\"],[0.9,\"#4d9221\"],[1,\"#276419\"]],\"sequential\":[[0.0,\"#0d0887\"],[0.1111111111111111,\"#46039f\"],[0.2222222222222222,\"#7201a8\"],[0.3333333333333333,\"#9c179e\"],[0.4444444444444444,\"#bd3786\"],[0.5555555555555556,\"#d8576b\"],[0.6666666666666666,\"#ed7953\"],[0.7777777777777778,\"#fb9f3a\"],[0.8888888888888888,\"#fdca26\"],[1.0,\"#f0f921\"]],\"sequentialminus\":[[0.0,\"#0d0887\"],[0.1111111111111111,\"#46039f\"],[0.2222222222222222,\"#7201a8\"],[0.3333333333333333,\"#9c179e\"],[0.4444444444444444,\"#bd3786\"],[0.5555555555555556,\"#d8576b\"],[0.6666666666666666,\"#ed7953\"],[0.7777777777777778,\"#fb9f3a\"],[0.8888888888888888,\"#fdca26\"],[1.0,\"#f0f921\"]]},\"colorway\":[\"#636efa\",\"#EF553B\",\"#00cc96\",\"#ab63fa\",\"#FFA15A\",\"#19d3f3\",\"#FF6692\",\"#B6E880\",\"#FF97FF\",\"#FECB52\"],\"font\":{\"color\":\"#2a3f5f\"},\"geo\":{\"bgcolor\":\"white\",\"lakecolor\":\"white\",\"landcolor\":\"#E5ECF6\",\"showlakes\":true,\"showland\":true,\"subunitcolor\":\"white\"},\"hoverlabel\":{\"align\":\"left\"},\"hovermode\":\"closest\",\"mapbox\":{\"style\":\"light\"},\"paper_bgcolor\":\"white\",\"plot_bgcolor\":\"#E5ECF6\",\"polar\":{\"angularaxis\":{\"gridcolor\":\"white\",\"linecolor\":\"white\",\"ticks\":\"\"},\"bgcolor\":\"#E5ECF6\",\"radialaxis\":{\"gridcolor\":\"white\",\"linecolor\":\"white\",\"ticks\":\"\"}},\"scene\":{\"xaxis\":{\"backgroundcolor\":\"#E5ECF6\",\"gridcolor\":\"white\",\"gridwidth\":2,\"linecolor\":\"white\",\"showbackground\":true,\"ticks\":\"\",\"zerolinecolor\":\"white\"},\"yaxis\":{\"backgroundcolor\":\"#E5ECF6\",\"gridcolor\":\"white\",\"gridwidth\":2,\"linecolor\":\"white\",\"showbackground\":true,\"ticks\":\"\",\"zerolinecolor\":\"white\"},\"zaxis\":{\"backgroundcolor\":\"#E5ECF6\",\"gridcolor\":\"white\",\"gridwidth\":2,\"linecolor\":\"white\",\"showbackground\":true,\"ticks\":\"\",\"zerolinecolor\":\"white\"}},\"shapedefaults\":{\"line\":{\"color\":\"#2a3f5f\"}},\"ternary\":{\"aaxis\":{\"gridcolor\":\"white\",\"linecolor\":\"white\",\"ticks\":\"\"},\"baxis\":{\"gridcolor\":\"white\",\"linecolor\":\"white\",\"ticks\":\"\"},\"bgcolor\":\"#E5ECF6\",\"caxis\":{\"gridcolor\":\"white\",\"linecolor\":\"white\",\"ticks\":\"\"}},\"title\":{\"x\":0.05},\"xaxis\":{\"automargin\":true,\"gridcolor\":\"white\",\"linecolor\":\"white\",\"ticks\":\"\",\"title\":{\"standoff\":15},\"zerolinecolor\":\"white\",\"zerolinewidth\":2},\"yaxis\":{\"automargin\":true,\"gridcolor\":\"white\",\"linecolor\":\"white\",\"ticks\":\"\",\"title\":{\"standoff\":15},\"zerolinecolor\":\"white\",\"zerolinewidth\":2}}},\"title\":{\"text\":\"Class Distribution\"},\"width\":800,\"xaxis\":{\"title\":{\"text\":\"Attack Name\"}},\"yaxis\":{\"title\":{\"text\":\"Number of attacks\"}}},                        {\"responsive\": true}                    ).then(function(){\n",
       "                            \n",
       "var gd = document.getElementById('773c0401-e333-4aec-a5e1-99d198db7272');\n",
       "var x = new MutationObserver(function (mutations, observer) {{\n",
       "        var display = window.getComputedStyle(gd).display;\n",
       "        if (!display || display === 'none') {{\n",
       "            console.log([gd, 'removed!']);\n",
       "            Plotly.purge(gd);\n",
       "            observer.disconnect();\n",
       "        }}\n",
       "}});\n",
       "\n",
       "// Listen for the removal of the full notebook cells\n",
       "var notebookContainer = gd.closest('#notebook-container');\n",
       "if (notebookContainer) {{\n",
       "    x.observe(notebookContainer, {childList: true});\n",
       "}}\n",
       "\n",
       "// Listen for the clearing of the current output cell\n",
       "var outputEl = gd.closest('.output');\n",
       "if (outputEl) {{\n",
       "    x.observe(outputEl, {childList: true});\n",
       "}}\n",
       "\n",
       "                        })                };                });            </script>        </div>"
      ]
     },
     "metadata": {},
     "output_type": "display_data"
    }
   ],
   "source": [
    "fig = go.Figure(data=[\n",
    "    go.Bar(name='Benign', \n",
    "           y=df[\"Label\"].value_counts().values[0:1],\n",
    "           x=['Benign'],\n",
    "           text = df[\"Label\"].value_counts()[0:1],\n",
    "           orientation='v',\n",
    "           textposition='outside',),\n",
    "    go.Bar(name='Malicious', \n",
    "           y=df[\"Label\"].value_counts().values[1:2],\n",
    "           x=['Malicious'],\n",
    "           text = df[\"Label\"].value_counts()[1:2],\n",
    "           orientation='v',\n",
    "           textposition='outside',)\n",
    "])\n",
    "# Change the bar mode\n",
    "fig.update_layout(\n",
    "                  width=800,\n",
    "                  height=600,\n",
    "                  title=f'Class Distribution',\n",
    "                  yaxis_title='Number of attacks',\n",
    "                  xaxis_title='Attack Name',)\n",
    "iplot(fig)"
   ]
  },
  {
   "cell_type": "markdown",
   "metadata": {},
   "source": [
    "To prevent our classification model from being biased, we should make sure that the class distribution is even (i.e. 50% benign and 50% malicious).\n",
    "\n",
    "Since there are 380493 instances of Malicious and 663808 instances of Benign, we can take 380493 instances of both Malicious and Benign to train our model with an even class distribution."
   ]
  },
  {
   "cell_type": "code",
   "execution_count": 16,
   "metadata": {
    "execution": {
     "iopub.execute_input": "2025-03-06T14:53:42.275537Z",
     "iopub.status.busy": "2025-03-06T14:53:42.274833Z",
     "iopub.status.idle": "2025-03-06T14:53:42.524409Z",
     "shell.execute_reply": "2025-03-06T14:53:42.523144Z",
     "shell.execute_reply.started": "2025-03-06T14:53:42.275501Z"
    },
    "trusted": true
   },
   "outputs": [],
   "source": [
    "df1 = df[df[\"Label\"] == \"Benign\"][:380943]\n",
    "df2 = df[df[\"Label\"] == \"Malicious\"][:380943]\n",
    "df_equal = pd.concat([ df1,df2], axis =0)"
   ]
  },
  {
   "cell_type": "markdown",
   "metadata": {},
   "source": [
    "We now encode our class labels to integer values for the model to use."
   ]
  },
  {
   "cell_type": "code",
   "execution_count": 17,
   "metadata": {
    "execution": {
     "iopub.execute_input": "2025-03-06T14:53:43.734003Z",
     "iopub.status.busy": "2025-03-06T14:53:43.733167Z",
     "iopub.status.idle": "2025-03-06T14:53:44.019924Z",
     "shell.execute_reply": "2025-03-06T14:53:44.018933Z",
     "shell.execute_reply.started": "2025-03-06T14:53:43.733968Z"
    },
    "trusted": true
   },
   "outputs": [],
   "source": [
    "df_equal.replace(to_replace=\"Benign\", value=0, inplace=True)\n",
    "df_equal.replace(to_replace=\"Malicious\", value=1, inplace=True)"
   ]
  },
  {
   "cell_type": "markdown",
   "metadata": {},
   "source": [
    "We split the data into training and testing sets."
   ]
  },
  {
   "cell_type": "code",
   "execution_count": 18,
   "metadata": {
    "execution": {
     "iopub.execute_input": "2025-03-06T14:53:44.170847Z",
     "iopub.status.busy": "2025-03-06T14:53:44.169965Z",
     "iopub.status.idle": "2025-03-06T14:53:44.296506Z",
     "shell.execute_reply": "2025-03-06T14:53:44.295387Z",
     "shell.execute_reply.started": "2025-03-06T14:53:44.170811Z"
    },
    "trusted": true
   },
   "outputs": [],
   "source": [
    "train, test = train_test_split(df_equal, test_size=0.3, random_state=RANDOM_STATE_SEED)"
   ]
  },
  {
   "cell_type": "code",
   "execution_count": 19,
   "metadata": {
    "execution": {
     "iopub.execute_input": "2025-03-06T14:53:44.462646Z",
     "iopub.status.busy": "2025-03-06T14:53:44.462235Z",
     "iopub.status.idle": "2025-03-06T14:53:44.470373Z",
     "shell.execute_reply": "2025-03-06T14:53:44.469230Z",
     "shell.execute_reply.started": "2025-03-06T14:53:44.462608Z"
    },
    "trusted": true
   },
   "outputs": [
    {
     "data": {
      "text/plain": [
       "Index(['Dst Port', 'Protocol', 'Flow Duration', 'Tot Fwd Pkts', 'Tot Bwd Pkts',\n",
       "       'Label'],\n",
       "      dtype='object')"
      ]
     },
     "execution_count": 19,
     "metadata": {},
     "output_type": "execute_result"
    }
   ],
   "source": [
    "# display columns\n",
    "train.columns"
   ]
  },
  {
   "cell_type": "code",
   "execution_count": 20,
   "metadata": {
    "execution": {
     "iopub.execute_input": "2025-03-06T14:53:45.051836Z",
     "iopub.status.busy": "2025-03-06T14:53:45.050730Z",
     "iopub.status.idle": "2025-03-06T14:53:45.069134Z",
     "shell.execute_reply": "2025-03-06T14:53:45.067944Z",
     "shell.execute_reply.started": "2025-03-06T14:53:45.051793Z"
    },
    "trusted": true
   },
   "outputs": [
    {
     "name": "stdout",
     "output_type": "stream",
     "text": [
      "<class 'pandas.core.frame.DataFrame'>\n",
      "Int64Index: 533320 entries, 676152 to 92077\n",
      "Data columns (total 6 columns):\n",
      " #   Column         Non-Null Count   Dtype\n",
      "---  ------         --------------   -----\n",
      " 0   Dst Port       533320 non-null  int64\n",
      " 1   Protocol       533320 non-null  int64\n",
      " 2   Flow Duration  533320 non-null  int64\n",
      " 3   Tot Fwd Pkts   533320 non-null  int64\n",
      " 4   Tot Bwd Pkts   533320 non-null  int64\n",
      " 5   Label          533320 non-null  int64\n",
      "dtypes: int64(6)\n",
      "memory usage: 28.5 MB\n"
     ]
    }
   ],
   "source": [
    "# feature info\n",
    "train.info()"
   ]
  },
  {
   "cell_type": "markdown",
   "metadata": {},
   "source": [
    "All of our data except the 'Timestamp' column is numerical. These numerical columns contain different ranges of values, which can confuse our model.\n",
    "Thus, we must normalize our data."
   ]
  },
  {
   "cell_type": "code",
   "execution_count": 21,
   "metadata": {
    "execution": {
     "iopub.execute_input": "2025-03-06T14:55:02.773854Z",
     "iopub.status.busy": "2025-03-06T14:55:02.773448Z",
     "iopub.status.idle": "2025-03-06T14:55:02.846409Z",
     "shell.execute_reply": "2025-03-06T14:55:02.845062Z",
     "shell.execute_reply.started": "2025-03-06T14:55:02.773820Z"
    },
    "trusted": true
   },
   "outputs": [],
   "source": [
    "min_max_scaler = MinMaxScaler().fit(train[selected_columns])\n",
    "train[selected_columns] = min_max_scaler.transform(train[selected_columns])"
   ]
  },
  {
   "cell_type": "code",
   "execution_count": 22,
   "metadata": {
    "execution": {
     "iopub.execute_input": "2025-03-06T14:55:04.445365Z",
     "iopub.status.busy": "2025-03-06T14:55:04.444969Z",
     "iopub.status.idle": "2025-03-06T14:55:04.466630Z",
     "shell.execute_reply": "2025-03-06T14:55:04.465359Z",
     "shell.execute_reply.started": "2025-03-06T14:55:04.445333Z"
    },
    "trusted": true
   },
   "outputs": [
    {
     "data": {
      "text/html": [
       "<div>\n",
       "<style scoped>\n",
       "    .dataframe tbody tr th:only-of-type {\n",
       "        vertical-align: middle;\n",
       "    }\n",
       "\n",
       "    .dataframe tbody tr th {\n",
       "        vertical-align: top;\n",
       "    }\n",
       "\n",
       "    .dataframe thead th {\n",
       "        text-align: right;\n",
       "    }\n",
       "</style>\n",
       "<table border=\"1\" class=\"dataframe\">\n",
       "  <thead>\n",
       "    <tr style=\"text-align: right;\">\n",
       "      <th></th>\n",
       "      <th>Dst Port</th>\n",
       "      <th>Protocol</th>\n",
       "      <th>Flow Duration</th>\n",
       "      <th>Tot Fwd Pkts</th>\n",
       "      <th>Tot Bwd Pkts</th>\n",
       "      <th>Label</th>\n",
       "    </tr>\n",
       "  </thead>\n",
       "  <tbody>\n",
       "    <tr>\n",
       "      <th>676152</th>\n",
       "      <td>0.804508</td>\n",
       "      <td>0.352941</td>\n",
       "      <td>0.999869</td>\n",
       "      <td>0.000202</td>\n",
       "      <td>0.000000</td>\n",
       "      <td>0.0</td>\n",
       "    </tr>\n",
       "    <tr>\n",
       "      <th>429159</th>\n",
       "      <td>0.583135</td>\n",
       "      <td>0.352941</td>\n",
       "      <td>0.999869</td>\n",
       "      <td>0.000202</td>\n",
       "      <td>0.000000</td>\n",
       "      <td>0.0</td>\n",
       "    </tr>\n",
       "    <tr>\n",
       "      <th>635436</th>\n",
       "      <td>0.000809</td>\n",
       "      <td>1.000000</td>\n",
       "      <td>0.999869</td>\n",
       "      <td>0.000000</td>\n",
       "      <td>0.000110</td>\n",
       "      <td>0.0</td>\n",
       "    </tr>\n",
       "    <tr>\n",
       "      <th>757967</th>\n",
       "      <td>0.000809</td>\n",
       "      <td>1.000000</td>\n",
       "      <td>0.999869</td>\n",
       "      <td>0.000000</td>\n",
       "      <td>0.000110</td>\n",
       "      <td>0.0</td>\n",
       "    </tr>\n",
       "    <tr>\n",
       "      <th>362510</th>\n",
       "      <td>0.000320</td>\n",
       "      <td>0.352941</td>\n",
       "      <td>0.999869</td>\n",
       "      <td>0.000000</td>\n",
       "      <td>0.000110</td>\n",
       "      <td>1.0</td>\n",
       "    </tr>\n",
       "    <tr>\n",
       "      <th>...</th>\n",
       "      <td>...</td>\n",
       "      <td>...</td>\n",
       "      <td>...</td>\n",
       "      <td>...</td>\n",
       "      <td>...</td>\n",
       "      <td>...</td>\n",
       "    </tr>\n",
       "    <tr>\n",
       "      <th>183720</th>\n",
       "      <td>0.000336</td>\n",
       "      <td>0.352941</td>\n",
       "      <td>0.999870</td>\n",
       "      <td>0.004251</td>\n",
       "      <td>0.002422</td>\n",
       "      <td>1.0</td>\n",
       "    </tr>\n",
       "    <tr>\n",
       "      <th>32083</th>\n",
       "      <td>0.000320</td>\n",
       "      <td>0.352941</td>\n",
       "      <td>0.999869</td>\n",
       "      <td>0.000000</td>\n",
       "      <td>0.000110</td>\n",
       "      <td>1.0</td>\n",
       "    </tr>\n",
       "    <tr>\n",
       "      <th>636315</th>\n",
       "      <td>0.006760</td>\n",
       "      <td>0.352941</td>\n",
       "      <td>1.000000</td>\n",
       "      <td>0.001215</td>\n",
       "      <td>0.001101</td>\n",
       "      <td>0.0</td>\n",
       "    </tr>\n",
       "    <tr>\n",
       "      <th>380638</th>\n",
       "      <td>0.000336</td>\n",
       "      <td>0.352941</td>\n",
       "      <td>0.999869</td>\n",
       "      <td>0.000000</td>\n",
       "      <td>0.000110</td>\n",
       "      <td>1.0</td>\n",
       "    </tr>\n",
       "    <tr>\n",
       "      <th>92077</th>\n",
       "      <td>0.000320</td>\n",
       "      <td>0.352941</td>\n",
       "      <td>0.999869</td>\n",
       "      <td>0.000000</td>\n",
       "      <td>0.000110</td>\n",
       "      <td>1.0</td>\n",
       "    </tr>\n",
       "  </tbody>\n",
       "</table>\n",
       "<p>533320 rows × 6 columns</p>\n",
       "</div>"
      ],
      "text/plain": [
       "        Dst Port  Protocol  Flow Duration  Tot Fwd Pkts  Tot Bwd Pkts  Label\n",
       "676152  0.804508  0.352941       0.999869      0.000202      0.000000    0.0\n",
       "429159  0.583135  0.352941       0.999869      0.000202      0.000000    0.0\n",
       "635436  0.000809  1.000000       0.999869      0.000000      0.000110    0.0\n",
       "757967  0.000809  1.000000       0.999869      0.000000      0.000110    0.0\n",
       "362510  0.000320  0.352941       0.999869      0.000000      0.000110    1.0\n",
       "...          ...       ...            ...           ...           ...    ...\n",
       "183720  0.000336  0.352941       0.999870      0.004251      0.002422    1.0\n",
       "32083   0.000320  0.352941       0.999869      0.000000      0.000110    1.0\n",
       "636315  0.006760  0.352941       1.000000      0.001215      0.001101    0.0\n",
       "380638  0.000336  0.352941       0.999869      0.000000      0.000110    1.0\n",
       "92077   0.000320  0.352941       0.999869      0.000000      0.000110    1.0\n",
       "\n",
       "[533320 rows x 6 columns]"
      ]
     },
     "execution_count": 22,
     "metadata": {},
     "output_type": "execute_result"
    }
   ],
   "source": [
    "train"
   ]
  },
  {
   "cell_type": "code",
   "execution_count": 23,
   "metadata": {
    "execution": {
     "iopub.execute_input": "2025-03-06T14:55:09.820184Z",
     "iopub.status.busy": "2025-03-06T14:55:09.819760Z",
     "iopub.status.idle": "2025-03-06T14:55:09.988431Z",
     "shell.execute_reply": "2025-03-06T14:55:09.987296Z",
     "shell.execute_reply.started": "2025-03-06T14:55:09.820151Z"
    },
    "trusted": true
   },
   "outputs": [
    {
     "data": {
      "text/html": [
       "<div>\n",
       "<style scoped>\n",
       "    .dataframe tbody tr th:only-of-type {\n",
       "        vertical-align: middle;\n",
       "    }\n",
       "\n",
       "    .dataframe tbody tr th {\n",
       "        vertical-align: top;\n",
       "    }\n",
       "\n",
       "    .dataframe thead th {\n",
       "        text-align: right;\n",
       "    }\n",
       "</style>\n",
       "<table border=\"1\" class=\"dataframe\">\n",
       "  <thead>\n",
       "    <tr style=\"text-align: right;\">\n",
       "      <th></th>\n",
       "      <th>Dst Port</th>\n",
       "      <th>Protocol</th>\n",
       "      <th>Flow Duration</th>\n",
       "      <th>Tot Fwd Pkts</th>\n",
       "      <th>Tot Bwd Pkts</th>\n",
       "      <th>Label</th>\n",
       "    </tr>\n",
       "  </thead>\n",
       "  <tbody>\n",
       "    <tr>\n",
       "      <th>count</th>\n",
       "      <td>533320.000000</td>\n",
       "      <td>533320.000000</td>\n",
       "      <td>533320.000000</td>\n",
       "      <td>533320.000000</td>\n",
       "      <td>533320.000000</td>\n",
       "      <td>533320.000000</td>\n",
       "    </tr>\n",
       "    <tr>\n",
       "      <th>mean</th>\n",
       "      <td>0.056635</td>\n",
       "      <td>0.446630</td>\n",
       "      <td>0.999872</td>\n",
       "      <td>0.001047</td>\n",
       "      <td>0.000748</td>\n",
       "      <td>0.500051</td>\n",
       "    </tr>\n",
       "    <tr>\n",
       "      <th>std</th>\n",
       "      <td>0.192522</td>\n",
       "      <td>0.234226</td>\n",
       "      <td>0.001879</td>\n",
       "      <td>0.006917</td>\n",
       "      <td>0.009393</td>\n",
       "      <td>0.500000</td>\n",
       "    </tr>\n",
       "    <tr>\n",
       "      <th>min</th>\n",
       "      <td>0.000000</td>\n",
       "      <td>0.000000</td>\n",
       "      <td>0.000000</td>\n",
       "      <td>0.000000</td>\n",
       "      <td>0.000000</td>\n",
       "      <td>0.000000</td>\n",
       "    </tr>\n",
       "    <tr>\n",
       "      <th>25%</th>\n",
       "      <td>0.000320</td>\n",
       "      <td>0.352941</td>\n",
       "      <td>0.999869</td>\n",
       "      <td>0.000000</td>\n",
       "      <td>0.000110</td>\n",
       "      <td>0.000000</td>\n",
       "    </tr>\n",
       "    <tr>\n",
       "      <th>50%</th>\n",
       "      <td>0.000336</td>\n",
       "      <td>0.352941</td>\n",
       "      <td>0.999869</td>\n",
       "      <td>0.000000</td>\n",
       "      <td>0.000110</td>\n",
       "      <td>1.000000</td>\n",
       "    </tr>\n",
       "    <tr>\n",
       "      <th>75%</th>\n",
       "      <td>0.002106</td>\n",
       "      <td>0.352941</td>\n",
       "      <td>0.999870</td>\n",
       "      <td>0.001417</td>\n",
       "      <td>0.000771</td>\n",
       "      <td>1.000000</td>\n",
       "    </tr>\n",
       "    <tr>\n",
       "      <th>max</th>\n",
       "      <td>1.000000</td>\n",
       "      <td>1.000000</td>\n",
       "      <td>1.000000</td>\n",
       "      <td>1.000000</td>\n",
       "      <td>1.000000</td>\n",
       "      <td>1.000000</td>\n",
       "    </tr>\n",
       "  </tbody>\n",
       "</table>\n",
       "</div>"
      ],
      "text/plain": [
       "            Dst Port       Protocol  Flow Duration   Tot Fwd Pkts  \\\n",
       "count  533320.000000  533320.000000  533320.000000  533320.000000   \n",
       "mean        0.056635       0.446630       0.999872       0.001047   \n",
       "std         0.192522       0.234226       0.001879       0.006917   \n",
       "min         0.000000       0.000000       0.000000       0.000000   \n",
       "25%         0.000320       0.352941       0.999869       0.000000   \n",
       "50%         0.000336       0.352941       0.999869       0.000000   \n",
       "75%         0.002106       0.352941       0.999870       0.001417   \n",
       "max         1.000000       1.000000       1.000000       1.000000   \n",
       "\n",
       "        Tot Bwd Pkts          Label  \n",
       "count  533320.000000  533320.000000  \n",
       "mean        0.000748       0.500051  \n",
       "std         0.009393       0.500000  \n",
       "min         0.000000       0.000000  \n",
       "25%         0.000110       0.000000  \n",
       "50%         0.000110       1.000000  \n",
       "75%         0.000771       1.000000  \n",
       "max         1.000000       1.000000  "
      ]
     },
     "execution_count": 23,
     "metadata": {},
     "output_type": "execute_result"
    }
   ],
   "source": [
    "train.describe()"
   ]
  },
  {
   "cell_type": "code",
   "execution_count": 24,
   "metadata": {
    "execution": {
     "iopub.execute_input": "2025-03-06T14:55:11.743359Z",
     "iopub.status.busy": "2025-03-06T14:55:11.742947Z",
     "iopub.status.idle": "2025-03-06T14:55:11.762286Z",
     "shell.execute_reply": "2025-03-06T14:55:11.761020Z",
     "shell.execute_reply.started": "2025-03-06T14:55:11.743326Z"
    },
    "trusted": true
   },
   "outputs": [
    {
     "name": "stdout",
     "output_type": "stream",
     "text": [
      "<class 'pandas.core.frame.DataFrame'>\n",
      "Int64Index: 533320 entries, 676152 to 92077\n",
      "Data columns (total 6 columns):\n",
      " #   Column         Non-Null Count   Dtype  \n",
      "---  ------         --------------   -----  \n",
      " 0   Dst Port       533320 non-null  float64\n",
      " 1   Protocol       533320 non-null  float64\n",
      " 2   Flow Duration  533320 non-null  float64\n",
      " 3   Tot Fwd Pkts   533320 non-null  float64\n",
      " 4   Tot Bwd Pkts   533320 non-null  float64\n",
      " 5   Label          533320 non-null  float64\n",
      "dtypes: float64(6)\n",
      "memory usage: 28.5 MB\n"
     ]
    }
   ],
   "source": [
    "train.info()"
   ]
  },
  {
   "cell_type": "code",
   "execution_count": 25,
   "metadata": {
    "execution": {
     "iopub.execute_input": "2022-10-20T04:42:23.321298Z",
     "iopub.status.busy": "2022-10-20T04:42:23.320368Z",
     "iopub.status.idle": "2022-10-20T04:42:23.428222Z",
     "shell.execute_reply": "2022-10-20T04:42:23.427121Z",
     "shell.execute_reply.started": "2022-10-20T04:42:23.321248Z"
    },
    "trusted": true
   },
   "outputs": [
    {
     "name": "stdout",
     "output_type": "stream",
     "text": [
      "<class 'pandas.core.frame.DataFrame'>\n",
      "Int64Index: 533320 entries, 676152 to 92077\n",
      "Data columns (total 6 columns):\n",
      " #   Column         Non-Null Count   Dtype  \n",
      "---  ------         --------------   -----  \n",
      " 0   Dst Port       533320 non-null  float64\n",
      " 1   Protocol       533320 non-null  float64\n",
      " 2   Flow Duration  533320 non-null  float64\n",
      " 3   Tot Fwd Pkts   533320 non-null  float64\n",
      " 4   Tot Bwd Pkts   533320 non-null  float64\n",
      " 5   Label          533320 non-null  float64\n",
      "dtypes: float64(6)\n",
      "memory usage: 28.5 MB\n"
     ]
    }
   ],
   "source": [
    "train.info()"
   ]
  },
  {
   "cell_type": "code",
   "execution_count": 26,
   "metadata": {
    "execution": {
     "iopub.execute_input": "2025-03-06T14:55:34.173395Z",
     "iopub.status.busy": "2025-03-06T14:55:34.173017Z",
     "iopub.status.idle": "2025-03-06T14:55:34.199320Z",
     "shell.execute_reply": "2025-03-06T14:55:34.198215Z",
     "shell.execute_reply.started": "2025-03-06T14:55:34.173365Z"
    },
    "trusted": true
   },
   "outputs": [],
   "source": [
    "test[selected_columns] = min_max_scaler.transform(test[selected_columns])"
   ]
  },
  {
   "cell_type": "code",
   "execution_count": 27,
   "metadata": {
    "execution": {
     "iopub.execute_input": "2025-03-06T14:55:40.533007Z",
     "iopub.status.busy": "2025-03-06T14:55:40.532577Z",
     "iopub.status.idle": "2025-03-06T14:55:40.557556Z",
     "shell.execute_reply": "2025-03-06T14:55:40.556409Z",
     "shell.execute_reply.started": "2025-03-06T14:55:40.532972Z"
    },
    "trusted": true
   },
   "outputs": [
    {
     "data": {
      "text/html": [
       "<div>\n",
       "<style scoped>\n",
       "    .dataframe tbody tr th:only-of-type {\n",
       "        vertical-align: middle;\n",
       "    }\n",
       "\n",
       "    .dataframe tbody tr th {\n",
       "        vertical-align: top;\n",
       "    }\n",
       "\n",
       "    .dataframe thead th {\n",
       "        text-align: right;\n",
       "    }\n",
       "</style>\n",
       "<table border=\"1\" class=\"dataframe\">\n",
       "  <thead>\n",
       "    <tr style=\"text-align: right;\">\n",
       "      <th></th>\n",
       "      <th>Dst Port</th>\n",
       "      <th>Protocol</th>\n",
       "      <th>Flow Duration</th>\n",
       "      <th>Tot Fwd Pkts</th>\n",
       "      <th>Tot Bwd Pkts</th>\n",
       "      <th>Label</th>\n",
       "    </tr>\n",
       "  </thead>\n",
       "  <tbody>\n",
       "    <tr>\n",
       "      <th>15923</th>\n",
       "      <td>0.000320</td>\n",
       "      <td>0.352941</td>\n",
       "      <td>0.999869</td>\n",
       "      <td>0.000000</td>\n",
       "      <td>0.000110</td>\n",
       "      <td>1.0</td>\n",
       "    </tr>\n",
       "    <tr>\n",
       "      <th>252005</th>\n",
       "      <td>0.000336</td>\n",
       "      <td>0.352941</td>\n",
       "      <td>0.999870</td>\n",
       "      <td>0.004251</td>\n",
       "      <td>0.002422</td>\n",
       "      <td>1.0</td>\n",
       "    </tr>\n",
       "    <tr>\n",
       "      <th>386353</th>\n",
       "      <td>0.001221</td>\n",
       "      <td>0.352941</td>\n",
       "      <td>0.999869</td>\n",
       "      <td>0.000405</td>\n",
       "      <td>0.000440</td>\n",
       "      <td>0.0</td>\n",
       "    </tr>\n",
       "    <tr>\n",
       "      <th>309061</th>\n",
       "      <td>0.000336</td>\n",
       "      <td>0.352941</td>\n",
       "      <td>0.999869</td>\n",
       "      <td>0.000000</td>\n",
       "      <td>0.000110</td>\n",
       "      <td>1.0</td>\n",
       "    </tr>\n",
       "    <tr>\n",
       "      <th>497976</th>\n",
       "      <td>0.006791</td>\n",
       "      <td>0.352941</td>\n",
       "      <td>0.999871</td>\n",
       "      <td>0.001012</td>\n",
       "      <td>0.000550</td>\n",
       "      <td>0.0</td>\n",
       "    </tr>\n",
       "    <tr>\n",
       "      <th>...</th>\n",
       "      <td>...</td>\n",
       "      <td>...</td>\n",
       "      <td>...</td>\n",
       "      <td>...</td>\n",
       "      <td>...</td>\n",
       "      <td>...</td>\n",
       "    </tr>\n",
       "    <tr>\n",
       "      <th>581324</th>\n",
       "      <td>0.000809</td>\n",
       "      <td>1.000000</td>\n",
       "      <td>0.999869</td>\n",
       "      <td>0.000000</td>\n",
       "      <td>0.000110</td>\n",
       "      <td>0.0</td>\n",
       "    </tr>\n",
       "    <tr>\n",
       "      <th>663056</th>\n",
       "      <td>0.775926</td>\n",
       "      <td>0.352941</td>\n",
       "      <td>0.999869</td>\n",
       "      <td>0.000405</td>\n",
       "      <td>0.000110</td>\n",
       "      <td>0.0</td>\n",
       "    </tr>\n",
       "    <tr>\n",
       "      <th>92705</th>\n",
       "      <td>0.000320</td>\n",
       "      <td>0.352941</td>\n",
       "      <td>0.999869</td>\n",
       "      <td>0.000000</td>\n",
       "      <td>0.000110</td>\n",
       "      <td>1.0</td>\n",
       "    </tr>\n",
       "    <tr>\n",
       "      <th>381008</th>\n",
       "      <td>0.000320</td>\n",
       "      <td>0.352941</td>\n",
       "      <td>0.999869</td>\n",
       "      <td>0.000000</td>\n",
       "      <td>0.000110</td>\n",
       "      <td>1.0</td>\n",
       "    </tr>\n",
       "    <tr>\n",
       "      <th>330351</th>\n",
       "      <td>0.000336</td>\n",
       "      <td>0.352941</td>\n",
       "      <td>0.999870</td>\n",
       "      <td>0.004049</td>\n",
       "      <td>0.002422</td>\n",
       "      <td>1.0</td>\n",
       "    </tr>\n",
       "  </tbody>\n",
       "</table>\n",
       "<p>228566 rows × 6 columns</p>\n",
       "</div>"
      ],
      "text/plain": [
       "        Dst Port  Protocol  Flow Duration  Tot Fwd Pkts  Tot Bwd Pkts  Label\n",
       "15923   0.000320  0.352941       0.999869      0.000000      0.000110    1.0\n",
       "252005  0.000336  0.352941       0.999870      0.004251      0.002422    1.0\n",
       "386353  0.001221  0.352941       0.999869      0.000405      0.000440    0.0\n",
       "309061  0.000336  0.352941       0.999869      0.000000      0.000110    1.0\n",
       "497976  0.006791  0.352941       0.999871      0.001012      0.000550    0.0\n",
       "...          ...       ...            ...           ...           ...    ...\n",
       "581324  0.000809  1.000000       0.999869      0.000000      0.000110    0.0\n",
       "663056  0.775926  0.352941       0.999869      0.000405      0.000110    0.0\n",
       "92705   0.000320  0.352941       0.999869      0.000000      0.000110    1.0\n",
       "381008  0.000320  0.352941       0.999869      0.000000      0.000110    1.0\n",
       "330351  0.000336  0.352941       0.999870      0.004049      0.002422    1.0\n",
       "\n",
       "[228566 rows x 6 columns]"
      ]
     },
     "execution_count": 27,
     "metadata": {},
     "output_type": "execute_result"
    }
   ],
   "source": [
    "test[selected_columns]"
   ]
  },
  {
   "cell_type": "code",
   "execution_count": 28,
   "metadata": {
    "execution": {
     "iopub.execute_input": "2025-03-06T14:55:44.233180Z",
     "iopub.status.busy": "2025-03-06T14:55:44.232755Z",
     "iopub.status.idle": "2025-03-06T14:55:44.286150Z",
     "shell.execute_reply": "2025-03-06T14:55:44.284863Z",
     "shell.execute_reply.started": "2025-03-06T14:55:44.233144Z"
    },
    "trusted": true
   },
   "outputs": [
    {
     "name": "stdout",
     "output_type": "stream",
     "text": [
      "Full dataset:\n",
      "\n",
      "Benign: 380943\n",
      "Malicious: 380943\n",
      "---------------\n",
      "Training set:\n",
      "\n",
      "Benign: 266633\n",
      "Malicious: 266687\n",
      "---------------\n",
      "Test set:\n",
      "\n",
      "Benign: 114310\n",
      "Malicious: 114256\n"
     ]
    }
   ],
   "source": [
    "print(\"Full dataset:\\n\")\n",
    "print(\"Benign: \" + str(df_equal[\"Label\"].value_counts()[[0]].sum()))\n",
    "print(\"Malicious: \" + str(df_equal[\"Label\"].value_counts()[[1]].sum()))\n",
    "print(\"---------------\")\n",
    "\n",
    "print(\"Training set:\\n\")\n",
    "print(\"Benign: \" + str(train[\"Label\"].value_counts()[[0]].sum()))\n",
    "print(\"Malicious: \" + str(train[\"Label\"].value_counts()[[1]].sum()))\n",
    "print(\"---------------\")\n",
    "\n",
    "print(\"Test set:\\n\")\n",
    "print(\"Benign: \" + str(test[\"Label\"].value_counts()[[0]].sum()))\n",
    "print(\"Malicious: \" + str(test[\"Label\"].value_counts()[[1]].sum()))"
   ]
  },
  {
   "cell_type": "code",
   "execution_count": 29,
   "metadata": {
    "execution": {
     "iopub.execute_input": "2025-03-06T14:55:51.971340Z",
     "iopub.status.busy": "2025-03-06T14:55:51.970937Z",
     "iopub.status.idle": "2025-03-06T14:55:51.989288Z",
     "shell.execute_reply": "2025-03-06T14:55:51.988094Z",
     "shell.execute_reply.started": "2025-03-06T14:55:51.971307Z"
    },
    "trusted": true
   },
   "outputs": [
    {
     "name": "stdout",
     "output_type": "stream",
     "text": [
      "<class 'numpy.ndarray'>\n",
      "<class 'numpy.ndarray'>\n",
      "(533320, 5)\n",
      "(533320,)\n"
     ]
    }
   ],
   "source": [
    "y_train = np.array(train.pop(\"Label\"))# pop removes \"Label\" from the dataframe\n",
    "#y_train = np.array(train.pop(\"Timestamp\"))\n",
    "X_train = train.values\n",
    "\n",
    "print(type(X_train))\n",
    "print(type(y_train))\n",
    "print(X_train.shape)\n",
    "print(y_train.shape)"
   ]
  },
  {
   "cell_type": "code",
   "execution_count": 30,
   "metadata": {
    "execution": {
     "iopub.execute_input": "2025-03-06T14:55:53.654183Z",
     "iopub.status.busy": "2025-03-06T14:55:53.653754Z",
     "iopub.status.idle": "2025-03-06T14:55:53.666845Z",
     "shell.execute_reply": "2025-03-06T14:55:53.665704Z",
     "shell.execute_reply.started": "2025-03-06T14:55:53.654148Z"
    },
    "trusted": true
   },
   "outputs": [
    {
     "name": "stdout",
     "output_type": "stream",
     "text": [
      "<class 'numpy.ndarray'>\n",
      "<class 'numpy.ndarray'>\n",
      "(228566, 5)\n",
      "(228566,)\n"
     ]
    }
   ],
   "source": [
    "y_test = np.array(test.pop(\"Label\")) # pop removes \"Label\" from the dataframe\n",
    "#y_test = np.array(test.pop(\"Timestamp\"))\n",
    "X_test = test.values\n",
    "\n",
    "print(type(X_test))\n",
    "print(type(y_test))\n",
    "print(X_test.shape)\n",
    "print(y_test.shape)"
   ]
  },
  {
   "cell_type": "code",
   "execution_count": 31,
   "metadata": {
    "execution": {
     "iopub.execute_input": "2025-03-06T14:55:54.919112Z",
     "iopub.status.busy": "2025-03-06T14:55:54.917814Z",
     "iopub.status.idle": "2025-03-06T14:55:54.926429Z",
     "shell.execute_reply": "2025-03-06T14:55:54.925330Z",
     "shell.execute_reply.started": "2025-03-06T14:55:54.919053Z"
    },
    "trusted": true
   },
   "outputs": [],
   "source": [
    "model = RandomForestClassifier(\n",
    "    n_estimators=100,\n",
    "    criterion='gini',\n",
    "    max_depth=None,\n",
    "    min_samples_split=2,\n",
    "    min_samples_leaf=1,\n",
    "    min_weight_fraction_leaf=0.0,\n",
    "    max_features='sqrt',\n",
    "    #max_features='auto',\n",
    "    max_leaf_nodes=None,\n",
    "    min_impurity_decrease=0.0,\n",
    "    bootstrap=True,\n",
    "    oob_score=False,\n",
    "    n_jobs=None,\n",
    "    random_state=None,\n",
    "    verbose=0,\n",
    "    warm_start=False,\n",
    "    ccp_alpha=0.0,\n",
    "    max_samples=None\n",
    ")\n",
    "\n",
    "hyperparameters = {\n",
    "    'n_estimators': [50, 75, 100, 125, 150]\n",
    "}"
   ]
  },
  {
   "cell_type": "code",
   "execution_count": 32,
   "metadata": {
    "execution": {
     "iopub.execute_input": "2025-03-06T14:55:56.444249Z",
     "iopub.status.busy": "2025-03-06T14:55:56.443863Z",
     "iopub.status.idle": "2025-03-06T14:55:56.449611Z",
     "shell.execute_reply": "2025-03-06T14:55:56.448428Z",
     "shell.execute_reply.started": "2025-03-06T14:55:56.444220Z"
    },
    "trusted": true
   },
   "outputs": [],
   "source": [
    "clf = GridSearchCV(\n",
    "    estimator=model,\n",
    "    param_grid=hyperparameters,\n",
    "    cv=5,\n",
    "    verbose=1,\n",
    "    n_jobs=-1  # Use all available CPU cores\n",
    ")"
   ]
  },
  {
   "cell_type": "code",
   "execution_count": 33,
   "metadata": {
    "execution": {
     "iopub.execute_input": "2025-03-06T14:55:57.524013Z",
     "iopub.status.busy": "2025-03-06T14:55:57.523585Z",
     "iopub.status.idle": "2025-03-06T14:59:08.135318Z",
     "shell.execute_reply": "2025-03-06T14:59:08.133985Z",
     "shell.execute_reply.started": "2025-03-06T14:55:57.523967Z"
    },
    "trusted": true
   },
   "outputs": [
    {
     "name": "stdout",
     "output_type": "stream",
     "text": [
      "Fitting 5 folds for each of 5 candidates, totalling 25 fits\n"
     ]
    },
    {
     "data": {
      "text/html": [
       "<style>#sk-container-id-1 {color: black;background-color: white;}#sk-container-id-1 pre{padding: 0;}#sk-container-id-1 div.sk-toggleable {background-color: white;}#sk-container-id-1 label.sk-toggleable__label {cursor: pointer;display: block;width: 100%;margin-bottom: 0;padding: 0.3em;box-sizing: border-box;text-align: center;}#sk-container-id-1 label.sk-toggleable__label-arrow:before {content: \"▸\";float: left;margin-right: 0.25em;color: #696969;}#sk-container-id-1 label.sk-toggleable__label-arrow:hover:before {color: black;}#sk-container-id-1 div.sk-estimator:hover label.sk-toggleable__label-arrow:before {color: black;}#sk-container-id-1 div.sk-toggleable__content {max-height: 0;max-width: 0;overflow: hidden;text-align: left;background-color: #f0f8ff;}#sk-container-id-1 div.sk-toggleable__content pre {margin: 0.2em;color: black;border-radius: 0.25em;background-color: #f0f8ff;}#sk-container-id-1 input.sk-toggleable__control:checked~div.sk-toggleable__content {max-height: 200px;max-width: 100%;overflow: auto;}#sk-container-id-1 input.sk-toggleable__control:checked~label.sk-toggleable__label-arrow:before {content: \"▾\";}#sk-container-id-1 div.sk-estimator input.sk-toggleable__control:checked~label.sk-toggleable__label {background-color: #d4ebff;}#sk-container-id-1 div.sk-label input.sk-toggleable__control:checked~label.sk-toggleable__label {background-color: #d4ebff;}#sk-container-id-1 input.sk-hidden--visually {border: 0;clip: rect(1px 1px 1px 1px);clip: rect(1px, 1px, 1px, 1px);height: 1px;margin: -1px;overflow: hidden;padding: 0;position: absolute;width: 1px;}#sk-container-id-1 div.sk-estimator {font-family: monospace;background-color: #f0f8ff;border: 1px dotted black;border-radius: 0.25em;box-sizing: border-box;margin-bottom: 0.5em;}#sk-container-id-1 div.sk-estimator:hover {background-color: #d4ebff;}#sk-container-id-1 div.sk-parallel-item::after {content: \"\";width: 100%;border-bottom: 1px solid gray;flex-grow: 1;}#sk-container-id-1 div.sk-label:hover label.sk-toggleable__label {background-color: #d4ebff;}#sk-container-id-1 div.sk-serial::before {content: \"\";position: absolute;border-left: 1px solid gray;box-sizing: border-box;top: 0;bottom: 0;left: 50%;z-index: 0;}#sk-container-id-1 div.sk-serial {display: flex;flex-direction: column;align-items: center;background-color: white;padding-right: 0.2em;padding-left: 0.2em;position: relative;}#sk-container-id-1 div.sk-item {position: relative;z-index: 1;}#sk-container-id-1 div.sk-parallel {display: flex;align-items: stretch;justify-content: center;background-color: white;position: relative;}#sk-container-id-1 div.sk-item::before, #sk-container-id-1 div.sk-parallel-item::before {content: \"\";position: absolute;border-left: 1px solid gray;box-sizing: border-box;top: 0;bottom: 0;left: 50%;z-index: -1;}#sk-container-id-1 div.sk-parallel-item {display: flex;flex-direction: column;z-index: 1;position: relative;background-color: white;}#sk-container-id-1 div.sk-parallel-item:first-child::after {align-self: flex-end;width: 50%;}#sk-container-id-1 div.sk-parallel-item:last-child::after {align-self: flex-start;width: 50%;}#sk-container-id-1 div.sk-parallel-item:only-child::after {width: 0;}#sk-container-id-1 div.sk-dashed-wrapped {border: 1px dashed gray;margin: 0 0.4em 0.5em 0.4em;box-sizing: border-box;padding-bottom: 0.4em;background-color: white;}#sk-container-id-1 div.sk-label label {font-family: monospace;font-weight: bold;display: inline-block;line-height: 1.2em;}#sk-container-id-1 div.sk-label-container {text-align: center;}#sk-container-id-1 div.sk-container {/* jupyter's `normalize.less` sets `[hidden] { display: none; }` but bootstrap.min.css set `[hidden] { display: none !important; }` so we also need the `!important` here to be able to override the default hidden behavior on the sphinx rendered scikit-learn.org. See: https://github.com/scikit-learn/scikit-learn/issues/21755 */display: inline-block !important;position: relative;}#sk-container-id-1 div.sk-text-repr-fallback {display: none;}</style><div id=\"sk-container-id-1\" class=\"sk-top-container\"><div class=\"sk-text-repr-fallback\"><pre>GridSearchCV(cv=5, estimator=RandomForestClassifier(), n_jobs=-1,\n",
       "             param_grid={&#x27;n_estimators&#x27;: [50, 75, 100, 125, 150]}, verbose=1)</pre><b>In a Jupyter environment, please rerun this cell to show the HTML representation or trust the notebook. <br />On GitHub, the HTML representation is unable to render, please try loading this page with nbviewer.org.</b></div><div class=\"sk-container\" hidden><div class=\"sk-item sk-dashed-wrapped\"><div class=\"sk-label-container\"><div class=\"sk-label sk-toggleable\"><input class=\"sk-toggleable__control sk-hidden--visually\" id=\"sk-estimator-id-1\" type=\"checkbox\" ><label for=\"sk-estimator-id-1\" class=\"sk-toggleable__label sk-toggleable__label-arrow\">GridSearchCV</label><div class=\"sk-toggleable__content\"><pre>GridSearchCV(cv=5, estimator=RandomForestClassifier(), n_jobs=-1,\n",
       "             param_grid={&#x27;n_estimators&#x27;: [50, 75, 100, 125, 150]}, verbose=1)</pre></div></div></div><div class=\"sk-parallel\"><div class=\"sk-parallel-item\"><div class=\"sk-item\"><div class=\"sk-label-container\"><div class=\"sk-label sk-toggleable\"><input class=\"sk-toggleable__control sk-hidden--visually\" id=\"sk-estimator-id-2\" type=\"checkbox\" ><label for=\"sk-estimator-id-2\" class=\"sk-toggleable__label sk-toggleable__label-arrow\">estimator: RandomForestClassifier</label><div class=\"sk-toggleable__content\"><pre>RandomForestClassifier()</pre></div></div></div><div class=\"sk-serial\"><div class=\"sk-item\"><div class=\"sk-estimator sk-toggleable\"><input class=\"sk-toggleable__control sk-hidden--visually\" id=\"sk-estimator-id-3\" type=\"checkbox\" ><label for=\"sk-estimator-id-3\" class=\"sk-toggleable__label sk-toggleable__label-arrow\">RandomForestClassifier</label><div class=\"sk-toggleable__content\"><pre>RandomForestClassifier()</pre></div></div></div></div></div></div></div></div></div></div>"
      ],
      "text/plain": [
       "GridSearchCV(cv=5, estimator=RandomForestClassifier(), n_jobs=-1,\n",
       "             param_grid={'n_estimators': [50, 75, 100, 125, 150]}, verbose=1)"
      ]
     },
     "execution_count": 33,
     "metadata": {},
     "output_type": "execute_result"
    }
   ],
   "source": [
    "clf.fit(X=X_train, y=y_train)"
   ]
  },
  {
   "cell_type": "code",
   "execution_count": 34,
   "metadata": {
    "execution": {
     "iopub.execute_input": "2025-03-06T14:59:08.138222Z",
     "iopub.status.busy": "2025-03-06T14:59:08.137806Z",
     "iopub.status.idle": "2025-03-06T14:59:08.145897Z",
     "shell.execute_reply": "2025-03-06T14:59:08.144600Z",
     "shell.execute_reply.started": "2025-03-06T14:59:08.138184Z"
    },
    "trusted": true
   },
   "outputs": [
    {
     "name": "stdout",
     "output_type": "stream",
     "text": [
      "Accuracy score on Validation set: \n",
      "\n",
      "0.9999924998124954\n",
      "---------------\n",
      "Best performing hyperparameters on Validation set: \n",
      "{'n_estimators': 50}\n",
      "---------------\n",
      "RandomForestClassifier(n_estimators=50)\n"
     ]
    }
   ],
   "source": [
    "print(\"Accuracy score on Validation set: \\n\")\n",
    "print(clf.best_score_ )\n",
    "print(\"---------------\")\n",
    "print(\"Best performing hyperparameters on Validation set: \")\n",
    "print(clf.best_params_)\n",
    "print(\"---------------\")\n",
    "print(clf.best_estimator_)"
   ]
  },
  {
   "cell_type": "code",
   "execution_count": 35,
   "metadata": {
    "execution": {
     "iopub.execute_input": "2025-03-06T14:59:08.147479Z",
     "iopub.status.busy": "2025-03-06T14:59:08.147198Z",
     "iopub.status.idle": "2025-03-06T14:59:08.170986Z",
     "shell.execute_reply": "2025-03-06T14:59:08.169945Z",
     "shell.execute_reply.started": "2025-03-06T14:59:08.147453Z"
    },
    "trusted": true
   },
   "outputs": [],
   "source": [
    "model = clf.best_estimator_"
   ]
  },
  {
   "cell_type": "code",
   "execution_count": 36,
   "metadata": {
    "execution": {
     "iopub.execute_input": "2025-03-06T14:59:08.174759Z",
     "iopub.status.busy": "2025-03-06T14:59:08.174286Z",
     "iopub.status.idle": "2025-03-06T14:59:08.185455Z",
     "shell.execute_reply": "2025-03-06T14:59:08.184244Z",
     "shell.execute_reply.started": "2025-03-06T14:59:08.174723Z"
    },
    "trusted": true
   },
   "outputs": [
    {
     "data": {
      "text/html": [
       "<style>#sk-container-id-2 {color: black;background-color: white;}#sk-container-id-2 pre{padding: 0;}#sk-container-id-2 div.sk-toggleable {background-color: white;}#sk-container-id-2 label.sk-toggleable__label {cursor: pointer;display: block;width: 100%;margin-bottom: 0;padding: 0.3em;box-sizing: border-box;text-align: center;}#sk-container-id-2 label.sk-toggleable__label-arrow:before {content: \"▸\";float: left;margin-right: 0.25em;color: #696969;}#sk-container-id-2 label.sk-toggleable__label-arrow:hover:before {color: black;}#sk-container-id-2 div.sk-estimator:hover label.sk-toggleable__label-arrow:before {color: black;}#sk-container-id-2 div.sk-toggleable__content {max-height: 0;max-width: 0;overflow: hidden;text-align: left;background-color: #f0f8ff;}#sk-container-id-2 div.sk-toggleable__content pre {margin: 0.2em;color: black;border-radius: 0.25em;background-color: #f0f8ff;}#sk-container-id-2 input.sk-toggleable__control:checked~div.sk-toggleable__content {max-height: 200px;max-width: 100%;overflow: auto;}#sk-container-id-2 input.sk-toggleable__control:checked~label.sk-toggleable__label-arrow:before {content: \"▾\";}#sk-container-id-2 div.sk-estimator input.sk-toggleable__control:checked~label.sk-toggleable__label {background-color: #d4ebff;}#sk-container-id-2 div.sk-label input.sk-toggleable__control:checked~label.sk-toggleable__label {background-color: #d4ebff;}#sk-container-id-2 input.sk-hidden--visually {border: 0;clip: rect(1px 1px 1px 1px);clip: rect(1px, 1px, 1px, 1px);height: 1px;margin: -1px;overflow: hidden;padding: 0;position: absolute;width: 1px;}#sk-container-id-2 div.sk-estimator {font-family: monospace;background-color: #f0f8ff;border: 1px dotted black;border-radius: 0.25em;box-sizing: border-box;margin-bottom: 0.5em;}#sk-container-id-2 div.sk-estimator:hover {background-color: #d4ebff;}#sk-container-id-2 div.sk-parallel-item::after {content: \"\";width: 100%;border-bottom: 1px solid gray;flex-grow: 1;}#sk-container-id-2 div.sk-label:hover label.sk-toggleable__label {background-color: #d4ebff;}#sk-container-id-2 div.sk-serial::before {content: \"\";position: absolute;border-left: 1px solid gray;box-sizing: border-box;top: 0;bottom: 0;left: 50%;z-index: 0;}#sk-container-id-2 div.sk-serial {display: flex;flex-direction: column;align-items: center;background-color: white;padding-right: 0.2em;padding-left: 0.2em;position: relative;}#sk-container-id-2 div.sk-item {position: relative;z-index: 1;}#sk-container-id-2 div.sk-parallel {display: flex;align-items: stretch;justify-content: center;background-color: white;position: relative;}#sk-container-id-2 div.sk-item::before, #sk-container-id-2 div.sk-parallel-item::before {content: \"\";position: absolute;border-left: 1px solid gray;box-sizing: border-box;top: 0;bottom: 0;left: 50%;z-index: -1;}#sk-container-id-2 div.sk-parallel-item {display: flex;flex-direction: column;z-index: 1;position: relative;background-color: white;}#sk-container-id-2 div.sk-parallel-item:first-child::after {align-self: flex-end;width: 50%;}#sk-container-id-2 div.sk-parallel-item:last-child::after {align-self: flex-start;width: 50%;}#sk-container-id-2 div.sk-parallel-item:only-child::after {width: 0;}#sk-container-id-2 div.sk-dashed-wrapped {border: 1px dashed gray;margin: 0 0.4em 0.5em 0.4em;box-sizing: border-box;padding-bottom: 0.4em;background-color: white;}#sk-container-id-2 div.sk-label label {font-family: monospace;font-weight: bold;display: inline-block;line-height: 1.2em;}#sk-container-id-2 div.sk-label-container {text-align: center;}#sk-container-id-2 div.sk-container {/* jupyter's `normalize.less` sets `[hidden] { display: none; }` but bootstrap.min.css set `[hidden] { display: none !important; }` so we also need the `!important` here to be able to override the default hidden behavior on the sphinx rendered scikit-learn.org. See: https://github.com/scikit-learn/scikit-learn/issues/21755 */display: inline-block !important;position: relative;}#sk-container-id-2 div.sk-text-repr-fallback {display: none;}</style><div id=\"sk-container-id-2\" class=\"sk-top-container\"><div class=\"sk-text-repr-fallback\"><pre>RandomForestClassifier(n_estimators=50)</pre><b>In a Jupyter environment, please rerun this cell to show the HTML representation or trust the notebook. <br />On GitHub, the HTML representation is unable to render, please try loading this page with nbviewer.org.</b></div><div class=\"sk-container\" hidden><div class=\"sk-item\"><div class=\"sk-estimator sk-toggleable\"><input class=\"sk-toggleable__control sk-hidden--visually\" id=\"sk-estimator-id-4\" type=\"checkbox\" checked><label for=\"sk-estimator-id-4\" class=\"sk-toggleable__label sk-toggleable__label-arrow\">RandomForestClassifier</label><div class=\"sk-toggleable__content\"><pre>RandomForestClassifier(n_estimators=50)</pre></div></div></div></div></div>"
      ],
      "text/plain": [
       "RandomForestClassifier(n_estimators=50)"
      ]
     },
     "execution_count": 36,
     "metadata": {},
     "output_type": "execute_result"
    }
   ],
   "source": [
    "model"
   ]
  },
  {
   "cell_type": "code",
   "execution_count": 37,
   "metadata": {
    "execution": {
     "iopub.execute_input": "2025-03-06T14:59:08.187470Z",
     "iopub.status.busy": "2025-03-06T14:59:08.187092Z",
     "iopub.status.idle": "2025-03-06T14:59:09.635022Z",
     "shell.execute_reply": "2025-03-06T14:59:09.633813Z",
     "shell.execute_reply.started": "2025-03-06T14:59:08.187441Z"
    },
    "trusted": true
   },
   "outputs": [],
   "source": [
    "predictions = model.predict(X_test)"
   ]
  },
  {
   "cell_type": "code",
   "execution_count": 38,
   "metadata": {
    "execution": {
     "iopub.execute_input": "2025-03-06T14:59:09.636623Z",
     "iopub.status.busy": "2025-03-06T14:59:09.636303Z",
     "iopub.status.idle": "2025-03-06T14:59:09.674917Z",
     "shell.execute_reply": "2025-03-06T14:59:09.673663Z",
     "shell.execute_reply.started": "2025-03-06T14:59:09.636593Z"
    },
    "trusted": true
   },
   "outputs": [
    {
     "name": "stdout",
     "output_type": "stream",
     "text": [
      "0.9999868746882739\n"
     ]
    }
   ],
   "source": [
    "print(accuracy_score(y_test, predictions))"
   ]
  },
  {
   "cell_type": "code",
   "execution_count": 39,
   "metadata": {
    "execution": {
     "iopub.execute_input": "2025-03-06T14:59:09.676637Z",
     "iopub.status.busy": "2025-03-06T14:59:09.676316Z",
     "iopub.status.idle": "2025-03-06T14:59:10.289109Z",
     "shell.execute_reply": "2025-03-06T14:59:10.287956Z",
     "shell.execute_reply.started": "2025-03-06T14:59:09.676609Z"
    },
    "trusted": true
   },
   "outputs": [
    {
     "data": {
      "text/plain": [
       "<Axes: >"
      ]
     },
     "execution_count": 39,
     "metadata": {},
     "output_type": "execute_result"
    },
    {
     "data": {
      "image/png": "[encoded data removed]",
      "text/plain": [
       "<Figure size 640x480 with 2 Axes>"
      ]
     },
     "metadata": {},
     "output_type": "display_data"
    }
   ],
   "source": [
    "from sklearn.metrics import confusion_matrix\n",
    "cf_matrix = confusion_matrix(y_test, predictions)\n",
    "import seaborn as sns\n",
    "sns.heatmap(cf_matrix, annot=True)"
   ]
  },
  {
   "cell_type": "markdown",
   "metadata": {},
   "source": [
    "Let us also try making a Neural Network model using Keras."
   ]
  },
  {
   "cell_type": "code",
   "execution_count": null,
   "metadata": {},
   "outputs": [],
   "source": [
    "# Xuất model RandomForest\n",
    "import pickle\n",
    "\n",
    "# Assuming you have already trained a model called 'model'\n",
    "# For example: model = RandomForestClassifier().fit(X_train, y_train)\n",
    "\n",
    "# Save the model to a pickle file\n",
    "with open('model.pkl', 'wb') as file:\n",
    "    pickle.dump(model, file)\n",
    "\n",
    "print(\"Model saved successfully as 'model.pkl'\")\n",
    "\n",
    "# To load the model later\n",
    "# with open('model.pkl', 'rb') as file:\n",
    "#     loaded_model = pickle.load(file)"
   ]
  },
  {
   "cell_type": "code",
   "execution_count": 40,
   "metadata": {
    "execution": {
     "iopub.execute_input": "2025-03-06T14:59:10.291026Z",
     "iopub.status.busy": "2025-03-06T14:59:10.290641Z",
     "iopub.status.idle": "2025-03-06T14:59:16.631022Z",
     "shell.execute_reply": "2025-03-06T14:59:16.629962Z",
     "shell.execute_reply.started": "2025-03-06T14:59:10.290995Z"
    },
    "trusted": true
   },
   "outputs": [],
   "source": [
    "import tensorflow as tf\n",
    "from tensorflow import keras\n",
    "from tensorflow.keras import layers"
   ]
  },
  {
   "cell_type": "code",
   "execution_count": 41,
   "metadata": {
    "execution": {
     "iopub.execute_input": "2025-03-06T15:04:41.561377Z",
     "iopub.status.busy": "2025-03-06T15:04:41.560976Z",
     "iopub.status.idle": "2025-03-06T15:04:41.656121Z",
     "shell.execute_reply": "2025-03-06T15:04:41.654861Z",
     "shell.execute_reply.started": "2025-03-06T15:04:41.561344Z"
    },
    "trusted": true
   },
   "outputs": [
    {
     "name": "stdout",
     "output_type": "stream",
     "text": [
      "Model: \"sequential\"\n",
      "_________________________________________________________________\n",
      " Layer (type)                Output Shape              Param #   \n",
      "=================================================================\n",
      " batch_normalization (BatchN  (None, 5)                35        \n",
      " ormalization)                                                   \n",
      "                                                                 \n",
      " dense (Dense)               (None, 128)               768       \n",
      "                                                                 \n",
      " dropout (Dropout)           (None, 128)               0         \n",
      "                                                                 \n",
      " batch_normalization_1 (Batc  (None, 128)              896       \n",
      " hNormalization)                                                 \n",
      "                                                                 \n",
      " dense_1 (Dense)             (None, 64)                8256      \n",
      "                                                                 \n",
      " dropout_1 (Dropout)         (None, 64)                0         \n",
      "                                                                 \n",
      " batch_normalization_2 (Batc  (None, 64)               448       \n",
      " hNormalization)                                                 \n",
      "                                                                 \n",
      " dense_2 (Dense)             (None, 32)                2080      \n",
      "                                                                 \n",
      " dropout_2 (Dropout)         (None, 32)                0         \n",
      "                                                                 \n",
      " dense_3 (Dense)             (None, 1)                 33        \n",
      "                                                                 \n",
      "=================================================================\n",
      "Total params: 12,516\n",
      "Trainable params: 11,531\n",
      "Non-trainable params: 985\n",
      "_________________________________________________________________\n"
     ]
    }
   ],
   "source": [
    "# ANN\n",
    "neuralNetModel = keras.Sequential([\n",
    "    layers.InputLayer(input_shape=(5,)),\n",
    "       \n",
    "    layers.BatchNormalization(renorm=True),\n",
    "    layers.Dense(128, activation='relu'),\n",
    "    layers.Dropout(rate = 0.3),\n",
    "    layers.BatchNormalization(renorm=True),\n",
    "    layers.Dense(64, activation='relu'),\n",
    "    layers.Dropout(rate = 0.3),\n",
    "    layers.BatchNormalization(renorm=True),\n",
    "    layers.Dense(32, activation='relu'),\n",
    "    layers.Dropout(rate = 0.3),\n",
    "    layers.Dense(1, activation='sigmoid'),\n",
    "])\n",
    "\n",
    "neuralNetModel.summary()"
   ]
  },
  {
   "cell_type": "code",
   "execution_count": null,
   "metadata": {
    "execution": {
     "iopub.execute_input": "2025-03-06T15:04:42.106497Z",
     "iopub.status.busy": "2025-03-06T15:04:42.106084Z",
     "iopub.status.idle": "2025-03-06T15:14:34.437193Z",
     "shell.execute_reply": "2025-03-06T15:14:34.435959Z",
     "shell.execute_reply.started": "2025-03-06T15:04:42.106464Z"
    },
    "trusted": true
   },
   "outputs": [
    {
     "name": "stdout",
     "output_type": "stream",
     "text": [
      "Epoch 1/50\n",
      "2079/2084 [============================>.] - ETA: 0s - loss: 0.1987 - binary_accuracy: 0.9118WARNING:tensorflow:Early stopping conditioned on metric `val_loss` which is not available. Available metrics are: loss,binary_accuracy\n",
      "2084/2084 [==============================] - 9s 3ms/step - loss: 0.1984 - binary_accuracy: 0.9120\n",
      "Epoch 2/50\n",
      "2076/2084 [============================>.] - ETA: 0s - loss: 0.0830 - binary_accuracy: 0.9779WARNING:tensorflow:Early stopping conditioned on metric `val_loss` which is not available. Available metrics are: loss,binary_accuracy\n",
      "2084/2084 [==============================] - 7s 4ms/step - loss: 0.0831 - binary_accuracy: 0.9779\n",
      "Epoch 3/50\n",
      "2075/2084 [============================>.] - ETA: 0s - loss: 0.0645 - binary_accuracy: 0.9812WARNING:tensorflow:Early stopping conditioned on metric `val_loss` which is not available. Available metrics are: loss,binary_accuracy\n",
      "2084/2084 [==============================] - 10s 5ms/step - loss: 0.0644 - binary_accuracy: 0.9812\n",
      "Epoch 4/50\n",
      "2071/2084 [============================>.] - ETA: 0s - loss: 0.0538 - binary_accuracy: 0.9844WARNING:tensorflow:Early stopping conditioned on metric `val_loss` which is not available. Available metrics are: loss,binary_accuracy\n",
      "2084/2084 [==============================] - 8s 4ms/step - loss: 0.0539 - binary_accuracy: 0.9844\n",
      "Epoch 5/50\n",
      "2082/2084 [============================>.] - ETA: 0s - loss: 0.0471 - binary_accuracy: 0.9890WARNING:tensorflow:Early stopping conditioned on metric `val_loss` which is not available. Available metrics are: loss,binary_accuracy\n",
      "2084/2084 [==============================] - 7s 4ms/step - loss: 0.0471 - binary_accuracy: 0.9890\n",
      "Epoch 6/50\n",
      "2076/2084 [============================>.] - ETA: 0s - loss: 0.0470 - binary_accuracy: 0.9887WARNING:tensorflow:Early stopping conditioned on metric `val_loss` which is not available. Available metrics are: loss,binary_accuracy\n",
      "2084/2084 [==============================] - 8s 4ms/step - loss: 0.0469 - binary_accuracy: 0.9888\n",
      "Epoch 7/50\n",
      "2075/2084 [============================>.] - ETA: 0s - loss: 0.0395 - binary_accuracy: 0.9897WARNING:tensorflow:Early stopping conditioned on metric `val_loss` which is not available. Available metrics are: loss,binary_accuracy\n",
      "2084/2084 [==============================] - 7s 4ms/step - loss: 0.0394 - binary_accuracy: 0.9897\n",
      "Epoch 8/50\n",
      "2078/2084 [============================>.] - ETA: 0s - loss: 0.0348 - binary_accuracy: 0.9910WARNING:tensorflow:Early stopping conditioned on metric `val_loss` which is not available. Available metrics are: loss,binary_accuracy\n",
      "2084/2084 [==============================] - 7s 4ms/step - loss: 0.0347 - binary_accuracy: 0.9910\n",
      "Epoch 9/50\n",
      "2074/2084 [============================>.] - ETA: 0s - loss: 0.0343 - binary_accuracy: 0.9904WARNING:tensorflow:Early stopping conditioned on metric `val_loss` which is not available. Available metrics are: loss,binary_accuracy\n",
      "2084/2084 [==============================] - 7s 4ms/step - loss: 0.0341 - binary_accuracy: 0.9905\n",
      "Epoch 10/50\n",
      "2072/2084 [============================>.] - ETA: 0s - loss: 0.0459 - binary_accuracy: 0.9887WARNING:tensorflow:Early stopping conditioned on metric `val_loss` which is not available. Available metrics are: loss,binary_accuracy\n",
      "2084/2084 [==============================] - 8s 4ms/step - loss: 0.0458 - binary_accuracy: 0.9887\n",
      "Epoch 11/50\n",
      "2084/2084 [==============================] - ETA: 0s - loss: 0.0383 - binary_accuracy: 0.9928WARNING:tensorflow:Early stopping conditioned on metric `val_loss` which is not available. Available metrics are: loss,binary_accuracy\n",
      "2084/2084 [==============================] - 8s 4ms/step - loss: 0.0383 - binary_accuracy: 0.9928\n",
      "Epoch 12/50\n",
      "2083/2084 [============================>.] - ETA: 0s - loss: 0.0331 - binary_accuracy: 0.9911WARNING:tensorflow:Early stopping conditioned on metric `val_loss` which is not available. Available metrics are: loss,binary_accuracy\n",
      "2084/2084 [==============================] - 8s 4ms/step - loss: 0.0331 - binary_accuracy: 0.9911\n",
      "Epoch 13/50\n",
      "2074/2084 [============================>.] - ETA: 0s - loss: 0.0416 - binary_accuracy: 0.9914WARNING:tensorflow:Early stopping conditioned on metric `val_loss` which is not available. Available metrics are: loss,binary_accuracy\n",
      "2084/2084 [==============================] - 8s 4ms/step - loss: 0.0415 - binary_accuracy: 0.9914\n",
      "Epoch 14/50\n",
      "2075/2084 [============================>.] - ETA: 0s - loss: 0.0333 - binary_accuracy: 0.9917WARNING:tensorflow:Early stopping conditioned on metric `val_loss` which is not available. Available metrics are: loss,binary_accuracy\n",
      "2084/2084 [==============================] - 7s 3ms/step - loss: 0.0333 - binary_accuracy: 0.9917\n",
      "Epoch 15/50\n",
      "2083/2084 [============================>.] - ETA: 0s - loss: 0.0431 - binary_accuracy: 0.9884WARNING:tensorflow:Early stopping conditioned on metric `val_loss` which is not available. Available metrics are: loss,binary_accuracy\n",
      "2084/2084 [==============================] - 8s 4ms/step - loss: 0.0431 - binary_accuracy: 0.9884\n",
      "Epoch 16/50\n",
      "2076/2084 [============================>.] - ETA: 0s - loss: 0.0407 - binary_accuracy: 0.9889WARNING:tensorflow:Early stopping conditioned on metric `val_loss` which is not available. Available metrics are: loss,binary_accuracy\n",
      "2084/2084 [==============================] - 7s 4ms/step - loss: 0.0406 - binary_accuracy: 0.9889\n",
      "Epoch 17/50\n",
      "2083/2084 [============================>.] - ETA: 0s - loss: 0.0370 - binary_accuracy: 0.9914WARNING:tensorflow:Early stopping conditioned on metric `val_loss` which is not available. Available metrics are: loss,binary_accuracy\n",
      "2084/2084 [==============================] - 8s 4ms/step - loss: 0.0370 - binary_accuracy: 0.9914\n",
      "Epoch 18/50\n",
      "2084/2084 [==============================] - ETA: 0s - loss: 0.0363 - binary_accuracy: 0.9908WARNING:tensorflow:Early stopping conditioned on metric `val_loss` which is not available. Available metrics are: loss,binary_accuracy\n",
      "2084/2084 [==============================] - 7s 4ms/step - loss: 0.0363 - binary_accuracy: 0.9908\n",
      "Epoch 19/50\n",
      "2083/2084 [============================>.] - ETA: 0s - loss: 0.0364 - binary_accuracy: 0.9915WARNING:tensorflow:Early stopping conditioned on metric `val_loss` which is not available. Available metrics are: loss,binary_accuracy\n",
      "2084/2084 [==============================] - 8s 4ms/step - loss: 0.0364 - binary_accuracy: 0.9915\n",
      "Epoch 20/50\n",
      "2084/2084 [==============================] - ETA: 0s - loss: 0.0297 - binary_accuracy: 0.9917WARNING:tensorflow:Early stopping conditioned on metric `val_loss` which is not available. Available metrics are: loss,binary_accuracy\n",
      "2084/2084 [==============================] - 7s 3ms/step - loss: 0.0297 - binary_accuracy: 0.9917\n",
      "Epoch 21/50\n",
      "2083/2084 [============================>.] - ETA: 0s - loss: 0.0462 - binary_accuracy: 0.9881WARNING:tensorflow:Early stopping conditioned on metric `val_loss` which is not available. Available metrics are: loss,binary_accuracy\n",
      "2084/2084 [==============================] - 7s 4ms/step - loss: 0.0462 - binary_accuracy: 0.9881\n",
      "Epoch 22/50\n",
      "2080/2084 [============================>.] - ETA: 0s - loss: 0.0230 - binary_accuracy: 0.9940WARNING:tensorflow:Early stopping conditioned on metric `val_loss` which is not available. Available metrics are: loss,binary_accuracy\n",
      "2084/2084 [==============================] - 9s 4ms/step - loss: 0.0230 - binary_accuracy: 0.9940\n",
      "Epoch 23/50\n",
      "2082/2084 [============================>.] - ETA: 0s - loss: 0.1324 - binary_accuracy: 0.9914WARNING:tensorflow:Early stopping conditioned on metric `val_loss` which is not available. Available metrics are: loss,binary_accuracy\n",
      "2084/2084 [==============================] - 10s 5ms/step - loss: 0.1324 - binary_accuracy: 0.9914\n",
      "Epoch 24/50\n",
      "2077/2084 [============================>.] - ETA: 0s - loss: 0.0237 - binary_accuracy: 0.9939WARNING:tensorflow:Early stopping conditioned on metric `val_loss` which is not available. Available metrics are: loss,binary_accuracy\n",
      "2084/2084 [==============================] - 8s 4ms/step - loss: 0.0237 - binary_accuracy: 0.9939\n",
      "Epoch 25/50\n",
      "2083/2084 [============================>.] - ETA: 0s - loss: 0.0217 - binary_accuracy: 0.9942WARNING:tensorflow:Early stopping conditioned on metric `val_loss` which is not available. Available metrics are: loss,binary_accuracy\n",
      "2084/2084 [==============================] - 7s 3ms/step - loss: 0.0217 - binary_accuracy: 0.9942\n",
      "Epoch 26/50\n",
      "2076/2084 [============================>.] - ETA: 0s - loss: 0.0391 - binary_accuracy: 0.9933WARNING:tensorflow:Early stopping conditioned on metric `val_loss` which is not available. Available metrics are: loss,binary_accuracy\n",
      "2084/2084 [==============================] - 7s 3ms/step - loss: 0.0391 - binary_accuracy: 0.9933\n",
      "Epoch 27/50\n",
      "2073/2084 [============================>.] - ETA: 0s - loss: 0.0568 - binary_accuracy: 0.9914WARNING:tensorflow:Early stopping conditioned on metric `val_loss` which is not available. Available metrics are: loss,binary_accuracy\n",
      "2084/2084 [==============================] - 7s 3ms/step - loss: 0.0566 - binary_accuracy: 0.9914\n",
      "Epoch 28/50\n",
      "2080/2084 [============================>.] - ETA: 0s - loss: 0.0254 - binary_accuracy: 0.9931WARNING:tensorflow:Early stopping conditioned on metric `val_loss` which is not available. Available metrics are: loss,binary_accuracy\n",
      "2084/2084 [==============================] - 7s 4ms/step - loss: 0.0254 - binary_accuracy: 0.9931\n",
      "Epoch 29/50\n",
      "2080/2084 [============================>.] - ETA: 0s - loss: 0.0457 - binary_accuracy: 0.9940WARNING:tensorflow:Early stopping conditioned on metric `val_loss` which is not available. Available metrics are: loss,binary_accuracy\n",
      "2084/2084 [==============================] - 8s 4ms/step - loss: 0.0456 - binary_accuracy: 0.9940\n",
      "Epoch 30/50\n",
      "2082/2084 [============================>.] - ETA: 0s - loss: 0.0233 - binary_accuracy: 0.9937WARNING:tensorflow:Early stopping conditioned on metric `val_loss` which is not available. Available metrics are: loss,binary_accuracy\n",
      "2084/2084 [==============================] - 7s 3ms/step - loss: 0.0233 - binary_accuracy: 0.9937\n",
      "Epoch 31/50\n",
      "2084/2084 [==============================] - ETA: 0s - loss: 0.0217 - binary_accuracy: 0.9940WARNING:tensorflow:Early stopping conditioned on metric `val_loss` which is not available. Available metrics are: loss,binary_accuracy\n",
      "2084/2084 [==============================] - 7s 3ms/step - loss: 0.0217 - binary_accuracy: 0.9940\n",
      "Epoch 32/50\n",
      "2075/2084 [============================>.] - ETA: 0s - loss: 0.0259 - binary_accuracy: 0.9928WARNING:tensorflow:Early stopping conditioned on metric `val_loss` which is not available. Available metrics are: loss,binary_accuracy\n",
      "2084/2084 [==============================] - 8s 4ms/step - loss: 0.0259 - binary_accuracy: 0.9928\n",
      "Epoch 33/50\n",
      "2073/2084 [============================>.] - ETA: 0s - loss: 0.0245 - binary_accuracy: 0.9930WARNING:tensorflow:Early stopping conditioned on metric `val_loss` which is not available. Available metrics are: loss,binary_accuracy\n",
      "2084/2084 [==============================] - 7s 3ms/step - loss: 0.0245 - binary_accuracy: 0.9930\n",
      "Epoch 34/50\n",
      "2084/2084 [==============================] - ETA: 0s - loss: 0.0238 - binary_accuracy: 0.9934WARNING:tensorflow:Early stopping conditioned on metric `val_loss` which is not available. Available metrics are: loss,binary_accuracy\n",
      "2084/2084 [==============================] - 7s 3ms/step - loss: 0.0238 - binary_accuracy: 0.9934\n",
      "Epoch 35/50\n",
      "2073/2084 [============================>.] - ETA: 0s - loss: 0.2752 - binary_accuracy: 0.9932WARNING:tensorflow:Early stopping conditioned on metric `val_loss` which is not available. Available metrics are: loss,binary_accuracy\n",
      "2084/2084 [==============================] - 7s 3ms/step - loss: 0.2740 - binary_accuracy: 0.9932\n",
      "Epoch 36/50\n",
      "2080/2084 [============================>.] - ETA: 0s - loss: 0.0265 - binary_accuracy: 0.9930WARNING:tensorflow:Early stopping conditioned on metric `val_loss` which is not available. Available metrics are: loss,binary_accuracy\n",
      "2084/2084 [==============================] - 6s 3ms/step - loss: 0.0265 - binary_accuracy: 0.9930\n",
      "Epoch 37/50\n",
      "2078/2084 [============================>.] - ETA: 0s - loss: 0.0234 - binary_accuracy: 0.9938WARNING:tensorflow:Early stopping conditioned on metric `val_loss` which is not available. Available metrics are: loss,binary_accuracy\n",
      "2084/2084 [==============================] - 7s 3ms/step - loss: 0.0234 - binary_accuracy: 0.9938\n",
      "Epoch 38/50\n",
      "2084/2084 [==============================] - ETA: 0s - loss: 0.0247 - binary_accuracy: 0.9934WARNING:tensorflow:Early stopping conditioned on metric `val_loss` which is not available. Available metrics are: loss,binary_accuracy\n",
      "2084/2084 [==============================] - 8s 4ms/step - loss: 0.0247 - binary_accuracy: 0.9934\n",
      "Epoch 39/50\n",
      "2084/2084 [==============================] - ETA: 0s - loss: 0.0301 - binary_accuracy: 0.9943WARNING:tensorflow:Early stopping conditioned on metric `val_loss` which is not available. Available metrics are: loss,binary_accuracy\n",
      "2084/2084 [==============================] - 8s 4ms/step - loss: 0.0301 - binary_accuracy: 0.9943\n",
      "Epoch 40/50\n",
      "2082/2084 [============================>.] - ETA: 0s - loss: 0.0261 - binary_accuracy: 0.9927WARNING:tensorflow:Early stopping conditioned on metric `val_loss` which is not available. Available metrics are: loss,binary_accuracy\n",
      "2084/2084 [==============================] - 7s 3ms/step - loss: 0.0260 - binary_accuracy: 0.9927\n",
      "Epoch 41/50\n",
      "2071/2084 [============================>.] - ETA: 0s - loss: 0.0239 - binary_accuracy: 0.9935WARNING:tensorflow:Early stopping conditioned on metric `val_loss` which is not available. Available metrics are: loss,binary_accuracy\n",
      "2084/2084 [==============================] - 7s 3ms/step - loss: 0.0239 - binary_accuracy: 0.9935\n",
      "Epoch 42/50\n",
      "2081/2084 [============================>.] - ETA: 0s - loss: 0.0297 - binary_accuracy: 0.9920WARNING:tensorflow:Early stopping conditioned on metric `val_loss` which is not available. Available metrics are: loss,binary_accuracy\n",
      "2084/2084 [==============================] - 8s 4ms/step - loss: 0.0296 - binary_accuracy: 0.9920\n",
      "Epoch 43/50\n",
      "2081/2084 [============================>.] - ETA: 0s - loss: 0.0264 - binary_accuracy: 0.9931WARNING:tensorflow:Early stopping conditioned on metric `val_loss` which is not available. Available metrics are: loss,binary_accuracy\n",
      "2084/2084 [==============================] - 7s 3ms/step - loss: 0.0264 - binary_accuracy: 0.9931\n",
      "Epoch 44/50\n",
      " 740/2084 [=========>....................] - ETA: 8s - loss: 0.0165 - binary_accuracy: 0.9960"
     ]
    }
   ],
   "source": [
    "optimizer = tf.keras.optimizers.Adam(epsilon=0.01)\n",
    "\n",
    "from tensorflow.keras import callbacks\n",
    "\n",
    "early_stopping = callbacks.EarlyStopping(\n",
    "    min_delta = 0.001,\n",
    "    patience = 5,\n",
    "    restore_best_weights = True\n",
    ")\n",
    "\n",
    "neuralNetModel.compile(\n",
    "    optimizer=optimizer,\n",
    "    loss='binary_crossentropy',\n",
    "    metrics=['binary_accuracy'],\n",
    ")\n",
    "\n",
    "history = neuralNetModel.fit(\n",
    "    X_train, y_train,\n",
    "    epochs=50,\n",
    "    batch_size = 256,\n",
    "    callbacks=[early_stopping]\n",
    ")\n",
    "\n",
    "history_frame = pd.DataFrame(history.history)\n",
    "history_frame.loc[:, ['loss']].plot()\n",
    "history_frame.loc[:, ['binary_accuracy']].plot();"
   ]
  },
  {
   "cell_type": "code",
   "execution_count": null,
   "metadata": {
    "execution": {
     "iopub.execute_input": "2025-03-06T15:14:34.440468Z",
     "iopub.status.busy": "2025-03-06T15:14:34.439704Z",
     "iopub.status.idle": "2025-03-06T15:14:45.293338Z",
     "shell.execute_reply": "2025-03-06T15:14:45.292118Z",
     "shell.execute_reply.started": "2025-03-06T15:14:34.440421Z"
    },
    "trusted": true
   },
   "outputs": [],
   "source": [
    "predictions=(neuralNetModel.predict(X_test) > 0.5).astype(\"int32\")\n"
   ]
  },
  {
   "cell_type": "code",
   "execution_count": null,
   "metadata": {
    "execution": {
     "iopub.execute_input": "2025-03-06T15:14:45.295466Z",
     "iopub.status.busy": "2025-03-06T15:14:45.295024Z",
     "iopub.status.idle": "2025-03-06T15:14:45.331154Z",
     "shell.execute_reply": "2025-03-06T15:14:45.329946Z",
     "shell.execute_reply.started": "2025-03-06T15:14:45.295423Z"
    },
    "trusted": true
   },
   "outputs": [
    {
     "name": "stdout",
     "output_type": "stream",
     "text": [
      "0.9982237078130606\n"
     ]
    }
   ],
   "source": [
    "print(accuracy_score(y_test, predictions))"
   ]
  },
  {
   "cell_type": "code",
   "execution_count": null,
   "metadata": {
    "execution": {
     "iopub.execute_input": "2025-03-06T15:14:45.333700Z",
     "iopub.status.busy": "2025-03-06T15:14:45.333369Z",
     "iopub.status.idle": "2025-03-06T15:14:45.756055Z",
     "shell.execute_reply": "2025-03-06T15:14:45.754925Z",
     "shell.execute_reply.started": "2025-03-06T15:14:45.333667Z"
    },
    "trusted": true
   },
   "outputs": [
    {
     "data": {
      "text/plain": [
       "<AxesSubplot:>"
      ]
     },
     "execution_count": 73,
     "metadata": {},
     "output_type": "execute_result"
    },
    {
     "data": {
      "image/png": "[encoded data removed]",
      "text/plain": [
       "<Figure size 432x288 with 2 Axes>"
      ]
     },
     "metadata": {
      "needs_background": "light"
     },
     "output_type": "display_data"
    }
   ],
   "source": [
    "from sklearn.metrics import confusion_matrix\n",
    "cf_matrix = confusion_matrix(y_test, predictions)\n",
    "import seaborn as sns\n",
    "sns.heatmap(cf_matrix, annot=True)"
   ]
  }
 ],
 "metadata": {
  "kaggle": {
   "accelerator": "none",
   "dataSources": [
    {
     "datasetId": 902298,
     "sourceId": 1530359,
     "sourceType": "datasetVersion"
    }
   ],
   "dockerImageVersionId": 30213,
   "isGpuEnabled": false,
   "isInternetEnabled": true,
   "language": "python",
   "sourceType": "notebook"
  },
  "kernelspec": {
   "display_name": "env-test",
   "language": "python",
   "name": "python3"
  },
  "language_info": {
   "codemirror_mode": {
    "name": "ipython",
    "version": 3
   },
   "file_extension": ".py",
   "mimetype": "text/x-python",
   "name": "python",
   "nbconvert_exporter": "python",
   "pygments_lexer": "ipython3",
   "version": "3.10.11"
  }
 },
 "nbformat": 4,
 "nbformat_minor": 4
}
